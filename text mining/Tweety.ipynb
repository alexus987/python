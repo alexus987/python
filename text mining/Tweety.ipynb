{
 "cells": [
  {
   "cell_type": "code",
   "execution_count": 1,
   "metadata": {
    "collapsed": true
   },
   "outputs": [],
   "source": [
    "import tweepy"
   ]
  },
  {
   "cell_type": "code",
   "execution_count": 6,
   "metadata": {
    "collapsed": false
   },
   "outputs": [],
   "source": [
    "## import the libraries\n",
    "import tweepy, codecs\n",
    "\n",
    "## fill in your Twitter credentials \n",
    "consumer_key = 'Zs73YtjjBGro28vuBixn2g'\n",
    "consumer_secret = 'NAp2bqrp8YqPyfzkMmYbXKdEesOzTK5k1t0SwLZdA'\n",
    "access_token = '255922982-JhOdVMPjyOxFIIsLOZgkN04nXeqCl6FHAniG4xjb'\n",
    "access_token_secret = 'K61tg1XNv1QP7qkft8beFtzNXMBybRsRGPtBoHzhogoCf'\n",
    "\n",
    "## let Tweepy set up an instance of the REST API\n",
    "auth = tweepy.OAuthHandler(consumer_key, consumer_secret)\n",
    "auth.set_access_token(access_token, access_token_secret)\n",
    "api = tweepy.API(auth)\n",
    "\n",
    "## fill in your search query and store your results in a variable\n",
    "results = api.search(q = \"telia\", lang = \"et\", result_type = \"recent\", count = 1000)\n",
    "\n",
    "## use the codecs library to write the text of the Tweets to a .txt file\n",
    "file = codecs.open(\"telia_twitter_ee.txt\", \"w\", \"utf-8\")\n",
    "for result in results:\n",
    "\tfile.write(result.text)\n",
    "\tfile.write(\"\\n\")\n",
    "file.close()"
   ]
  },
  {
   "cell_type": "code",
   "execution_count": 7,
   "metadata": {
    "collapsed": true
   },
   "outputs": [],
   "source": [
    "from aylienapiclient import textapi"
   ]
  },
  {
   "cell_type": "code",
   "execution_count": 8,
   "metadata": {
    "collapsed": false
   },
   "outputs": [
    {
     "name": "stdout",
     "output_type": "stream",
     "text": [
      "{'polarity': 'neutral', 'subjectivity': 'subjective', 'text': 'Internet', 'polarity_confidence': 0.44959160685539246, 'subjectivity_confidence': 0.9889165600601634}\n"
     ]
    }
   ],
   "source": [
    "from aylienapiclient import textapi\n",
    "client = textapi.Client(\"a47c98fc\", \"06de1474bb8ade2bb66e47b55ad7d69f\")\n",
    "sentiment = client.Sentiment({'text': 'Internet'})\n",
    "print(sentiment)"
   ]
  },
  {
   "cell_type": "code",
   "execution_count": 11,
   "metadata": {
    "collapsed": false
   },
   "outputs": [
    {
     "name": "stdout",
     "output_type": "stream",
     "text": [
      "@ryan3levis Telia park is the stadium :)\n",
      "@B_Gliese That's great mate, nice one! What about from Telia Park to the central stadium? Match over at half 9ish,… https://t.co/nu3BE84uh5\n",
      "RT @The2019Seniors: 2 MONDAYS TO HALLOWEEN 🎃🍫\n",
      "6 MONDAYS TO THANKSGIVING 🍗❄️\n",
      "10 MONDAYS TO CHRISTMAS 🎄🎁\n",
      "11 MONDAYS TO NEW YEARS 🎉🔥\n",
      "25 MONDAY…\n",
      "Telia Agrees to Pay $1 Billion in Penalties in Uzbek Corruption Scandal Settlement https://t.co/h9m0oadpgE https://t.co/lE98vb93Ox\n",
      "RT @Holy_Mowgli: 🎶welcome 2 mycology we give fungus names\n",
      "zygospores alkaloids apical membranes\n",
      "we find whatevr u may need\n",
      "flagella telia u…\n",
      "Telia Carrier launches new Internet backbone PoP in Berlin, bringing much-needed high speed, low latency connect... https://t.co/nQ4EH1UoS4\n",
      "@teliafinland Is this a joke?! You're saying entire Internet authorised to send e-mail 'from' telia.fi? You realise… https://t.co/1ze29hgDwH\n",
      "i really hope Telia Tequila found love\n",
      "@TeliaSverige leads in Swedish mobile market... via @mobileeurope https://t.co/F4ZDX4lBUe #mobilebenchmark2017 #pbmsve17 #p3 #connect\n",
      "Stay strong grandma. Free Van and Pooh. I love you Telia and Sophie. 🙏🏾💪🏾❤️😘\n",
      "Telia shows off 5G in Europe with Ericsson, Intel https://t.co/2bq9CuTdCo\n",
      "P3 names Telia best mobile operator in Sweden #Telecom https://t.co/sdFnlkV7J9\n",
      "RT @TeliaCompany: Telia has Sweden’s most satisfied business customers, our mobile brand Halebop has most satisfied private customers https…\n",
      "LAT | Telia warns the Government it may sell all of its shares in LMT and Lattelecom https://t.co/IA0tENrHqL\n",
      "RT @Telecompaper: P3 names #Telia best mobile network operator in Sweden, #Tele2 second https://t.co/O2eiQM7vrU\n",
      "P3 names Telia best mobile operator in Sweden https://t.co/nDMZLDan4b https://t.co/ghrECOzsKs\n",
      "#Podcast - What are the key lessons to be garnered from the top #FCPA enforcement action of 2017, the #Telia case?\n",
      "https://t.co/t2G4HiMCH9\n",
      "#Podcast - What are the key lessons to be garnered from the top #FCPA enforcement action of 2017, the #Telia case?\n",
      "https://t.co/bbQvDkuyaY\n",
      "P3 names Telia best mobile operator in Sweden https://t.co/xyP6ffTX9D\n",
      "P3 names #Telia best mobile network operator in Sweden, #Tele2 second https://t.co/O2eiQM7vrU\n",
      "Telia Carrier Launches New Internet Backbone PoP in Colocation Facility in Berlin, Germany - Hosting Journalist https://t.co/IniNu3UGo6\n",
      "I added a video to a @YouTube playlist https://t.co/ixjmj4MyiR Hvilken musikk liker artistene egentlig? | Telia\n",
      "Telia Carrier launches new Internet backbone PoP in Berlin, bringing much-needed high speed, low latency connect... https://t.co/FPD3cA62Is\n",
      "https://t.co/sNhmHSo0QL\n",
      "lets make this a good deal!\n",
      "#telia #esportsfi\n",
      ".@ElisaOyj manages to almost defend Finnish mobile SIM base in Q3 (-900 SIMs) but churn rates peak. Telia reports t… https://t.co/6j0EbDdIKb\n",
      "Bella Curls, Meille Organics, and I just heard of Taliah Wajiid( I think that's how you spell it lol) https://t.co/46AT91asU0\n",
      "Telia Carrier Launches New Internet Backbone PoP in Colocation Facility in Berlin, Germany - Hosting Journalist https://t.co/RM2lnDdCEH\n",
      "Telia promises to help digitalization of society after merger of LMT, Lattelecom companies - #Latvia #tax #corpora…… https://t.co/MSeLBUpp2h\n",
      "RT @FinanzLinksWELT: Telia promises to help digitalization of society after merger of LMT, Lattelecom companies https://t.co/Zbgzr2srt2 BAL…\n",
      "Telia promises to help digitalization of society after merger of LMT, Lattelecom companies https://t.co/Zbgzr2srt2 BALTIC COURSE\n",
      "We are ready for the Wedding!! 😂😂💕💕 #TheWopsters #TheManeEvent https://t.co/zHd3zUOmXm\n",
      "RT @TeliaCompany: Welcome! Telia Talk with Prof. @rgeccles :How sustainability is integrated in governing structure and reporting 8/11\n",
      "http…\n",
      "Sweden's Telia is trilled dead a contemporary code coating that foretells when a smartphone is approximately to misfunction and...\n",
      "Swedish startup is helping telia automate device care for customers light reading - https://t.co/xuJYVd5oOO\n",
      "@Coach_T_Marks Thanks Telia #wahoosis\n",
      "RT @MDoses: Damn. #Celtics #Cavs #lebron #hayward #NBAisBack #nba https://t.co/DUSCKi41Fl\n",
      "#Hayward broke his leg on opening night!!\n",
      "RT @capacitymedia: .@Datasix picks @TeliaCarrier to boost capacity at it's Vienna #DataCentre using Telia's #Fibre backbone &gt;&gt; https://t.co…\n",
      "Telia Carrier launches new Internet backbone PoP in Berlin, bringing much-needed high speed, low latency connect... https://t.co/Fjtzfqg5qX\n",
      "RT @TeliaCompany: Telia has Sweden’s most satisfied business customers, our mobile brand Halebop has most satisfied private customers https…\n",
      "RT @TeliaCompany: Telia’s network is best in test in Sweden! #mobilebenchmark2017 https://t.co/L9h8HdQToa https://t.co/ONbQVAlT3h\n",
      "If you think 4G's quick, Telia, Ericsson's 5G field tests show speeds '40 times faster' https://t.co/GZbGGbBB6j #4G�5G 7E1A1111C26\n",
      "RT @NottRihanna: let’s not forget this iconic transition https://t.co/AKxPutN6yR\n",
      "RT @eurweb: Toni Braxton and Birdman Did NOT Get Married, Rep Claims: ‘Toni is Dating’ https://t.co/ZuAhKz4BhR https://t.co/W57PhBhK6t\n",
      "Telia Carrier launches new Internet backbone PoP in Berlin, bringing much-needed high speed, low latency connect... https://t.co/oGAs1SIU1t\n",
      "RT @ColIegeStudent: “This isn't homework you can just do the night before it's due\"\n",
      "skipped\n",
      "First of all yes it is\n",
      "#Sweden  Clean  #OFF 🔓 4days 💪👉 https://t.co/zDDcshZZiZ 🔐\n",
      "skipped\n",
      "#iPhone_7_Plus_Black_32GB\n",
      "skipped\n",
      "Product Sold By: TELIA SVERIG… https://t.co/kp6AaXZvbs\n"
     ]
    },
    {
     "ename": "HttpError",
     "evalue": "<HttpError 429 when requesting https://api.aylien.com/api/v1/sentiment returned \"\">",
     "output_type": "error",
     "traceback": [
      "\u001b[1;31m---------------------------------------------------------------------------\u001b[0m",
      "\u001b[1;31mHttpError\u001b[0m                                 Traceback (most recent call last)",
      "\u001b[1;32m<ipython-input-11-ec8c53573050>\u001b[0m in \u001b[0;36m<module>\u001b[1;34m()\u001b[0m\n\u001b[0;32m     21\u001b[0m \u001b[1;33m\u001b[0m\u001b[0m\n\u001b[0;32m     22\u001b[0m                 \u001b[1;31m## Make call to AYLIEN Text API\u001b[0m\u001b[1;33m\u001b[0m\u001b[1;33m\u001b[0m\u001b[0m\n\u001b[1;32m---> 23\u001b[1;33m                 \u001b[0msentiment\u001b[0m \u001b[1;33m=\u001b[0m \u001b[0mclient\u001b[0m\u001b[1;33m.\u001b[0m\u001b[0mSentiment\u001b[0m\u001b[1;33m(\u001b[0m\u001b[1;33m{\u001b[0m\u001b[1;34m'text'\u001b[0m\u001b[1;33m:\u001b[0m \u001b[0mtweet\u001b[0m\u001b[1;33m}\u001b[0m\u001b[1;33m)\u001b[0m\u001b[1;33m\u001b[0m\u001b[0m\n\u001b[0m\u001b[0;32m     24\u001b[0m \u001b[1;33m\u001b[0m\u001b[0m\n\u001b[0;32m     25\u001b[0m                 \u001b[1;31m## Write the sentiment result into csv file\u001b[0m\u001b[1;33m\u001b[0m\u001b[1;33m\u001b[0m\u001b[0m\n",
      "\u001b[1;32m~\\Anaconda2\\envs\\Python3\\lib\\site-packages\\aylienapiclient\\textapi.py\u001b[0m in \u001b[0;36mSentiment\u001b[1;34m(self, options)\u001b[0m\n\u001b[0;32m    412\u001b[0m       \u001b[1;32mraise\u001b[0m \u001b[0mMissingParameterError\u001b[0m\u001b[1;33m(\u001b[0m\u001b[1;34m'You must either provide url or text'\u001b[0m\u001b[1;33m)\u001b[0m\u001b[1;33m\u001b[0m\u001b[0m\n\u001b[0;32m    413\u001b[0m \u001b[1;33m\u001b[0m\u001b[0m\n\u001b[1;32m--> 414\u001b[1;33m     \u001b[0mresponse\u001b[0m \u001b[1;33m=\u001b[0m \u001b[0mself\u001b[0m\u001b[1;33m.\u001b[0m\u001b[0m_executeRequest\u001b[0m\u001b[1;33m(\u001b[0m\u001b[1;34m'sentiment'\u001b[0m\u001b[1;33m,\u001b[0m \u001b[0moptions\u001b[0m\u001b[1;33m)\u001b[0m\u001b[1;33m\u001b[0m\u001b[0m\n\u001b[0m\u001b[0;32m    415\u001b[0m \u001b[1;33m\u001b[0m\u001b[0m\n\u001b[0;32m    416\u001b[0m     \u001b[1;32mreturn\u001b[0m \u001b[0mresponse\u001b[0m\u001b[1;33m\u001b[0m\u001b[0m\n",
      "\u001b[1;32m~\\Anaconda2\\envs\\Python3\\lib\\site-packages\\aylienapiclient\\textapi.py\u001b[0m in \u001b[0;36m_executeRequest\u001b[1;34m(self, endpoint, params)\u001b[0m\n\u001b[0;32m    680\u001b[0m \u001b[1;33m\u001b[0m\u001b[0m\n\u001b[0;32m    681\u001b[0m     \u001b[1;32mif\u001b[0m \u001b[0mresponse\u001b[0m\u001b[1;33m.\u001b[0m\u001b[0mstatus\u001b[0m \u001b[1;33m>=\u001b[0m \u001b[1;36m300\u001b[0m\u001b[1;33m:\u001b[0m\u001b[1;33m\u001b[0m\u001b[0m\n\u001b[1;32m--> 682\u001b[1;33m       \u001b[1;32mraise\u001b[0m \u001b[0mHttpError\u001b[0m\u001b[1;33m(\u001b[0m\u001b[0mresponse\u001b[0m\u001b[1;33m,\u001b[0m \u001b[0mcontent\u001b[0m\u001b[1;33m,\u001b[0m \u001b[0muri\u001b[0m\u001b[1;33m=\u001b[0m\u001b[0mrequest\u001b[0m\u001b[1;33m.\u001b[0m\u001b[0muri\u001b[0m\u001b[1;33m)\u001b[0m\u001b[1;33m\u001b[0m\u001b[0m\n\u001b[0m\u001b[0;32m    683\u001b[0m \u001b[1;33m\u001b[0m\u001b[0m\n\u001b[0;32m    684\u001b[0m     \u001b[1;32mif\u001b[0m \u001b[0msys\u001b[0m\u001b[1;33m.\u001b[0m\u001b[0mversion_info\u001b[0m \u001b[1;33m>=\u001b[0m \u001b[1;33m(\u001b[0m\u001b[1;36m3\u001b[0m\u001b[1;33m,\u001b[0m \u001b[1;36m0\u001b[0m\u001b[1;33m)\u001b[0m\u001b[1;33m:\u001b[0m\u001b[1;33m\u001b[0m\u001b[0m\n",
      "\u001b[1;31mHttpError\u001b[0m: <HttpError 429 when requesting https://api.aylien.com/api/v1/sentiment returned \"\">"
     ]
    }
   ],
   "source": [
    "from aylienapiclient import textapi\n",
    "import csv, io\n",
    "\n",
    "## Initialize a new client of AYLIEN Text API\n",
    "client = textapi.Client(\"a47c98fc\", \"06de1474bb8ade2bb66e47b55ad7d69f\")\n",
    "\n",
    "with io.open('telia_twitter_eng.csv', 'w', encoding='utf8', newline='') as csvfile:\n",
    "\tcsv_writer = csv.writer(csvfile)\n",
    "\tcsv_writer.writerow([\"Tweet\", \"Sentiment\"])\n",
    "\twith io.open(\"telia_twitter_en.txt\", 'r', encoding='utf8') as f:\n",
    "\t    for tweet in f.readlines():\n",
    "\t    \t## Remove extra spaces or newlines around the text\n",
    "\t    \ttweet = tweet.strip()\n",
    "\n",
    "\t    \t## Reject tweets which are empty so you don’t waste your API credits\n",
    "\t    \tif len(tweet) == 0:\n",
    "\t    \t\tprint('skipped')\n",
    "\t    \t\tcontinue\n",
    "\t    \t\n",
    "\t    \tprint(tweet)\n",
    "\n",
    "\t    \t## Make call to AYLIEN Text API\n",
    "\t    \tsentiment = client.Sentiment({'text': tweet})\n",
    "\n",
    "\t    \t## Write the sentiment result into csv file\n",
    "\t    \tcsv_writer.writerow([sentiment['text'], sentiment['polarity']])"
   ]
  },
  {
   "cell_type": "code",
   "execution_count": 16,
   "metadata": {
    "collapsed": false
   },
   "outputs": [
    {
     "data": {
      "image/png": "[encoded data removed]",
      "text/plain": [
       "<matplotlib.figure.Figure at 0x62115f8>"
      ]
     },
     "metadata": {},
     "output_type": "display_data"
    }
   ],
   "source": [
    "## import the libraries\n",
    "import matplotlib.pyplot as plt \n",
    "import pandas as pd\n",
    "from collections import Counter\n",
    "import csv \n",
    "\n",
    "## open up your csv file with the sentiment results\n",
    "with open('telia_twitter_eng.csv', 'r', encoding = 'utf8') as csvfile:\n",
    "## use Pandas to read the “Sentiment” column,\n",
    "        df = pd.read_csv(csvfile)\n",
    "sent = df[\"Sentiment\"]\n",
    "\n",
    "## use Counter to count how many times each sentiment appears\n",
    "## and save each as a variable\n",
    "counter = Counter(sent)\n",
    "positive = counter['positive']\n",
    "negative = counter['negative']\n",
    "neutral = counter['neutral']\n",
    "\n",
    "## declare the variables for the pie chart, using the Counter variables for “sizes”\n",
    "labels = 'Positive', 'Negative', 'Neutral'\n",
    "sizes = [positive, negative, neutral]\n",
    "colors = ['green', 'red', 'grey']\n",
    "yourtext = \"Internet\"\n",
    "\n",
    "## use matplotlib to plot the chart\n",
    "plt.pie(sizes, labels = labels, colors = colors, shadow = True, startangle = 90)\n",
    "plt.title(\"Sentiment of 200 Tweets about \"+yourtext)\n",
    "plt.show()"
   ]
  },
  {
   "cell_type": "code",
   "execution_count": null,
   "metadata": {
    "collapsed": true
   },
   "outputs": [],
   "source": []
  }
 ],
 "metadata": {
  "kernelspec": {
   "display_name": "Python [Python3]",
   "language": "python",
   "name": "Python [Python3]"
  },
  "language_info": {
   "codemirror_mode": {
    "name": "ipython",
    "version": 3
   },
   "file_extension": ".py",
   "mimetype": "text/x-python",
   "name": "python",
   "nbconvert_exporter": "python",
   "pygments_lexer": "ipython3",
   "version": "3.6.2"
  }
 },
 "nbformat": 4,
 "nbformat_minor": 2
}
