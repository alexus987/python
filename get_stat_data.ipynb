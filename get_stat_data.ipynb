{
  "nbformat": 4,
  "nbformat_minor": 0,
  "metadata": {
    "colab": {
      "name": "get_stat_data.ipynb",
      "provenance": [],
      "collapsed_sections": [],
      "authorship_tag": "ABX9TyOHosY7GieLyNyrfn5dfHbE",
      "include_colab_link": true
    },
    "kernelspec": {
      "name": "python3",
      "display_name": "Python 3"
    }
  },
  "cells": [
    {
      "cell_type": "markdown",
      "metadata": {
        "id": "view-in-github",
        "colab_type": "text"
      },
      "source": [
        "<a href=\"https://colab.research.google.com/github/alexus987/python/blob/master/get_stat_data.ipynb\" target=\"_parent\"><img src=\"https://colab.research.google.com/assets/colab-badge.svg\" alt=\"Open In Colab\"/></a>"
      ]
    },
    {
      "cell_type": "code",
      "metadata": {
        "id": "zMpe6Mtpn4Lh",
        "colab_type": "code",
        "colab": {
          "base_uri": "https://localhost:8080/",
          "height": 34
        },
        "outputId": "de8562e0-facc-40f0-bd70-03030de45c74"
      },
      "source": [
        "import pandas as pd\n",
        "\n",
        "from google.colab import auth\n",
        "auth.authenticate_user()\n",
        "print('Authenticated')"
      ],
      "execution_count": 1,
      "outputs": [
        {
          "output_type": "stream",
          "text": [
            "Authenticated\n"
          ],
          "name": "stdout"
        }
      ]
    },
    {
      "cell_type": "code",
      "metadata": {
        "id": "X_H-l5z_pJrJ",
        "colab_type": "code",
        "colab": {
          "base_uri": "https://localhost:8080/",
          "height": 374
        },
        "outputId": "fbf4e814-3dc3-4626-84be-113082d61566"
      },
      "source": [
        "!pip install gcsfs"
      ],
      "execution_count": 9,
      "outputs": [
        {
          "output_type": "stream",
          "text": [
            "Collecting gcsfs\n",
            "  Downloading https://files.pythonhosted.org/packages/18/3b/454be7c97d05e15eb20a0099f425f0ed6b7552e352c77adb923c3872ba14/gcsfs-0.6.1-py2.py3-none-any.whl\n",
            "Requirement already satisfied: fsspec>=0.6.0 in /usr/local/lib/python3.6/dist-packages (from gcsfs) (0.7.1)\n",
            "Requirement already satisfied: decorator in /usr/local/lib/python3.6/dist-packages (from gcsfs) (4.4.2)\n",
            "Requirement already satisfied: google-auth>=1.2 in /usr/local/lib/python3.6/dist-packages (from gcsfs) (1.7.2)\n",
            "Requirement already satisfied: google-auth-oauthlib in /usr/local/lib/python3.6/dist-packages (from gcsfs) (0.4.1)\n",
            "Requirement already satisfied: requests in /usr/local/lib/python3.6/dist-packages (from gcsfs) (2.21.0)\n",
            "Requirement already satisfied: cachetools<3.2,>=2.0.0 in /usr/local/lib/python3.6/dist-packages (from google-auth>=1.2->gcsfs) (3.1.1)\n",
            "Requirement already satisfied: rsa<4.1,>=3.1.4 in /usr/local/lib/python3.6/dist-packages (from google-auth>=1.2->gcsfs) (4.0)\n",
            "Requirement already satisfied: six>=1.9.0 in /usr/local/lib/python3.6/dist-packages (from google-auth>=1.2->gcsfs) (1.12.0)\n",
            "Requirement already satisfied: pyasn1-modules>=0.2.1 in /usr/local/lib/python3.6/dist-packages (from google-auth>=1.2->gcsfs) (0.2.8)\n",
            "Requirement already satisfied: setuptools>=40.3.0 in /usr/local/lib/python3.6/dist-packages (from google-auth>=1.2->gcsfs) (46.0.0)\n",
            "Requirement already satisfied: requests-oauthlib>=0.7.0 in /usr/local/lib/python3.6/dist-packages (from google-auth-oauthlib->gcsfs) (1.3.0)\n",
            "Requirement already satisfied: idna<2.9,>=2.5 in /usr/local/lib/python3.6/dist-packages (from requests->gcsfs) (2.8)\n",
            "Requirement already satisfied: urllib3<1.25,>=1.21.1 in /usr/local/lib/python3.6/dist-packages (from requests->gcsfs) (1.24.3)\n",
            "Requirement already satisfied: chardet<3.1.0,>=3.0.2 in /usr/local/lib/python3.6/dist-packages (from requests->gcsfs) (3.0.4)\n",
            "Requirement already satisfied: certifi>=2017.4.17 in /usr/local/lib/python3.6/dist-packages (from requests->gcsfs) (2019.11.28)\n",
            "Requirement already satisfied: pyasn1>=0.1.3 in /usr/local/lib/python3.6/dist-packages (from rsa<4.1,>=3.1.4->google-auth>=1.2->gcsfs) (0.4.8)\n",
            "Requirement already satisfied: oauthlib>=3.0.0 in /usr/local/lib/python3.6/dist-packages (from requests-oauthlib>=0.7.0->google-auth-oauthlib->gcsfs) (3.1.0)\n",
            "Installing collected packages: gcsfs\n",
            "Successfully installed gcsfs-0.6.1\n"
          ],
          "name": "stdout"
        }
      ]
    },
    {
      "cell_type": "code",
      "metadata": {
        "id": "fHp__9NVoDwW",
        "colab_type": "code",
        "colab": {}
      },
      "source": [
        "df = pd.read_csv('gs://telia-ddi-est-prod-delivery-bucket/covid19/stat/estoniaTable1_al25_updated20200404.csv')"
      ],
      "execution_count": 0,
      "outputs": []
    },
    {
      "cell_type": "code",
      "metadata": {
        "id": "Gcl9vIWhoaNv",
        "colab_type": "code",
        "colab": {
          "base_uri": "https://localhost:8080/",
          "height": 204
        },
        "outputId": "eaaaeede-33e7-4997-b17c-d88389d7298c"
      },
      "source": [
        "df.head(5)"
      ],
      "execution_count": 11,
      "outputs": [
        {
          "output_type": "execute_result",
          "data": {
            "text/html": [
              "<div>\n",
              "<style scoped>\n",
              "    .dataframe tbody tr th:only-of-type {\n",
              "        vertical-align: middle;\n",
              "    }\n",
              "\n",
              "    .dataframe tbody tr th {\n",
              "        vertical-align: top;\n",
              "    }\n",
              "\n",
              "    .dataframe thead th {\n",
              "        text-align: right;\n",
              "    }\n",
              "</style>\n",
              "<table border=\"1\" class=\"dataframe\">\n",
              "  <thead>\n",
              "    <tr style=\"text-align: right;\">\n",
              "      <th></th>\n",
              "      <th>region_name</th>\n",
              "      <th>region</th>\n",
              "      <th>avg_leavings</th>\n",
              "      <th>avg_sum_distance</th>\n",
              "      <th>avg_avg_distance</th>\n",
              "      <th>avg_stddev_distance</th>\n",
              "      <th>avg_max_distance</th>\n",
              "      <th>avg_main_loc_share</th>\n",
              "      <th>no_devices</th>\n",
              "      <th>date_</th>\n",
              "    </tr>\n",
              "  </thead>\n",
              "  <tbody>\n",
              "    <tr>\n",
              "      <th>0</th>\n",
              "      <td>Alu Rapla</td>\n",
              "      <td>K020</td>\n",
              "      <td>2.101695</td>\n",
              "      <td>30062.961109</td>\n",
              "      <td>16234.113755</td>\n",
              "      <td>3776.262732</td>\n",
              "      <td>20347.127059</td>\n",
              "      <td>0.689540</td>\n",
              "      <td>177</td>\n",
              "      <td>2020-02-20</td>\n",
              "    </tr>\n",
              "    <tr>\n",
              "      <th>1</th>\n",
              "      <td>Elva linn</td>\n",
              "      <td>K049</td>\n",
              "      <td>1.480519</td>\n",
              "      <td>25565.857844</td>\n",
              "      <td>17034.109423</td>\n",
              "      <td>3429.283904</td>\n",
              "      <td>20174.569250</td>\n",
              "      <td>0.771145</td>\n",
              "      <td>1540</td>\n",
              "      <td>2020-02-20</td>\n",
              "    </tr>\n",
              "    <tr>\n",
              "      <th>2</th>\n",
              "      <td>Loo Harju</td>\n",
              "      <td>K354</td>\n",
              "      <td>2.159815</td>\n",
              "      <td>20264.560345</td>\n",
              "      <td>10528.690443</td>\n",
              "      <td>3080.783949</td>\n",
              "      <td>13855.530967</td>\n",
              "      <td>0.687576</td>\n",
              "      <td>1946</td>\n",
              "      <td>2020-02-20</td>\n",
              "    </tr>\n",
              "    <tr>\n",
              "      <th>3</th>\n",
              "      <td>Oru Harju</td>\n",
              "      <td>K448</td>\n",
              "      <td>1.492958</td>\n",
              "      <td>33349.522733</td>\n",
              "      <td>20630.641552</td>\n",
              "      <td>3007.745997</td>\n",
              "      <td>23146.704590</td>\n",
              "      <td>0.707021</td>\n",
              "      <td>213</td>\n",
              "      <td>2020-02-20</td>\n",
              "    </tr>\n",
              "    <tr>\n",
              "      <th>4</th>\n",
              "      <td>Saue linn</td>\n",
              "      <td>K607</td>\n",
              "      <td>1.464896</td>\n",
              "      <td>22018.973622</td>\n",
              "      <td>13407.189812</td>\n",
              "      <td>3785.868972</td>\n",
              "      <td>16817.110566</td>\n",
              "      <td>0.723426</td>\n",
              "      <td>1054</td>\n",
              "      <td>2020-02-20</td>\n",
              "    </tr>\n",
              "  </tbody>\n",
              "</table>\n",
              "</div>"
            ],
            "text/plain": [
              "  region_name region  avg_leavings  ...  avg_main_loc_share  no_devices       date_\n",
              "0   Alu Rapla   K020      2.101695  ...            0.689540         177  2020-02-20\n",
              "1   Elva linn   K049      1.480519  ...            0.771145        1540  2020-02-20\n",
              "2   Loo Harju   K354      2.159815  ...            0.687576        1946  2020-02-20\n",
              "3   Oru Harju   K448      1.492958  ...            0.707021         213  2020-02-20\n",
              "4   Saue linn   K607      1.464896  ...            0.723426        1054  2020-02-20\n",
              "\n",
              "[5 rows x 10 columns]"
            ]
          },
          "metadata": {
            "tags": []
          },
          "execution_count": 11
        }
      ]
    }
  ]
}