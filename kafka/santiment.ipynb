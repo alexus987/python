{
 "cells": [
  {
   "cell_type": "markdown",
   "metadata": {},
   "source": [
    "## InfluxDB ##"
   ]
  },
  {
   "cell_type": "code",
   "execution_count": 1,
   "metadata": {},
   "outputs": [],
   "source": [
    "from influxdb import InfluxDBClient\n",
    "import json"
   ]
  },
  {
   "cell_type": "code",
   "execution_count": 2,
   "metadata": {},
   "outputs": [],
   "source": [
    "client = InfluxDBClient(host='influxdb-influxdb.default.svc.cluster.local', port=8086)"
   ]
  },
  {
   "cell_type": "code",
   "execution_count": 3,
   "metadata": {},
   "outputs": [],
   "source": [
    "dbs= client.get_list_database()"
   ]
  },
  {
   "cell_type": "code",
   "execution_count": 4,
   "metadata": {},
   "outputs": [],
   "source": [
    "client.switch_database('prices')"
   ]
  },
  {
   "cell_type": "code",
   "execution_count": 5,
   "metadata": {},
   "outputs": [],
   "source": [
    "measurements = client.get_list_measurements()"
   ]
  },
  {
   "cell_type": "code",
   "execution_count": 6,
   "metadata": {},
   "outputs": [
    {
     "data": {
      "text/plain": [
       "{'statement_id': 0,\n",
       " 'series': [{'name': 'ALC_allcoin',\n",
       "   'columns': ['time', 'price_btc', 'price_usd'],\n",
       "   'values': [['2018-10-30T09:12:51Z', 2.31e-06, 0.0145388019]]}]}"
      ]
     },
     "execution_count": 6,
     "metadata": {},
     "output_type": "execute_result"
    }
   ],
   "source": [
    "results = client.query('select * from ALC_allcoin ORDER by time DESC LIMIT 1')\n",
    "results.raw"
   ]
  },
  {
   "cell_type": "code",
   "execution_count": 7,
   "metadata": {},
   "outputs": [],
   "source": [
    "str = str(measurements)"
   ]
  },
  {
   "cell_type": "code",
   "execution_count": 8,
   "metadata": {},
   "outputs": [],
   "source": [
    "str = str.replace(\"\\'\", \"\\\"\")"
   ]
  },
  {
   "cell_type": "code",
   "execution_count": 9,
   "metadata": {},
   "outputs": [],
   "source": [
    "raw_input = json.loads(str)"
   ]
  },
  {
   "cell_type": "code",
   "execution_count": 10,
   "metadata": {},
   "outputs": [],
   "source": [
    "output_dict = [x for x in raw_input if x['name'] == 'ALC_allcoin']"
   ]
  },
  {
   "cell_type": "code",
   "execution_count": 11,
   "metadata": {},
   "outputs": [
    {
     "data": {
      "text/plain": [
       "[{'name': 'ALC_allcoin'}]"
      ]
     },
     "execution_count": 11,
     "metadata": {},
     "output_type": "execute_result"
    }
   ],
   "source": [
    "output_dict"
   ]
  },
  {
   "cell_type": "code",
   "execution_count": 12,
   "metadata": {},
   "outputs": [],
   "source": [
    "clear_USD = [x for x in measurements \n",
    "               if x['name'].endswith('_USD') == False\n",
    "              ]"
   ]
  },
  {
   "cell_type": "code",
   "execution_count": 13,
   "metadata": {},
   "outputs": [],
   "source": [
    "clear_BTC = [x for x in clear_USD \n",
    "               if x['name'].endswith('_BTC') == False\n",
    "              ]"
   ]
  },
  {
   "cell_type": "code",
   "execution_count": 14,
   "metadata": {},
   "outputs": [],
   "source": [
    "clear_BTC1 = [x for x in clear_BTC \n",
    "               if x['name'].endswith('coin') \n",
    "              ]"
   ]
  },
  {
   "cell_type": "code",
   "execution_count": 61,
   "metadata": {},
   "outputs": [
    {
     "data": {
      "text/plain": [
       "{'time': '2018-10-28T20:43:56Z',\n",
       " 'price_btc': 2.28e-06,\n",
       " 'price_usd': 0.0147648444}"
      ]
     },
     "execution_count": 61,
     "metadata": {},
     "output_type": "execute_result"
    }
   ],
   "source": [
    "a = points[1]\n",
    "type(a)\n",
    "a"
   ]
  },
  {
   "cell_type": "code",
   "execution_count": 12,
   "metadata": {},
   "outputs": [],
   "source": [
    "for x in output_dict:\n",
    "    results = client.query(('SELECT * from \"%s\" WHERE time >= now() - 1d LIMIT 100') %  x['name'])\n",
    "    points = list(results.get_points())\n",
    "    #points[0]['name'] = x['name']\n",
    "    for p in points:\n",
    "        p['name'] = x['name']\n",
    "    #print(points)\n",
    "      \n"
   ]
  },
  {
   "cell_type": "code",
   "execution_count": 13,
   "metadata": {},
   "outputs": [
    {
     "data": {
      "text/plain": [
       "[{'time': '2018-10-29T09:22:56Z',\n",
       "  'price_btc': 2.28e-06,\n",
       "  'price_usd': 0.0146646949,\n",
       "  'name': 'ALC_allcoin'},\n",
       " {'time': '2018-10-29T09:27:44Z',\n",
       "  'price_btc': 2.28e-06,\n",
       "  'price_usd': 0.014679866,\n",
       "  'name': 'ALC_allcoin'},\n",
       " {'time': '2018-10-29T09:32:50Z',\n",
       "  'price_btc': 2.12e-06,\n",
       "  'price_usd': 0.0136287905,\n",
       "  'name': 'ALC_allcoin'},\n",
       " {'time': '2018-10-29T09:36:53Z',\n",
       "  'price_btc': 2.11e-06,\n",
       "  'price_usd': 0.0136454911,\n",
       "  'name': 'ALC_allcoin'},\n",
       " {'time': '2018-10-29T09:41:54Z',\n",
       "  'price_btc': 2.12e-06,\n",
       "  'price_usd': 0.0136522128,\n",
       "  'name': 'ALC_allcoin'},\n",
       " {'time': '2018-10-29T09:49:52Z',\n",
       "  'price_btc': 2.13e-06,\n",
       "  'price_usd': 0.0136724272,\n",
       "  'name': 'ALC_allcoin'},\n",
       " {'time': '2018-10-29T09:55:56Z',\n",
       "  'price_btc': 2.11e-06,\n",
       "  'price_usd': 0.0136443575,\n",
       "  'name': 'ALC_allcoin'},\n",
       " {'time': '2018-10-29T10:00:54Z',\n",
       "  'price_btc': 2.12e-06,\n",
       "  'price_usd': 0.0136434272,\n",
       "  'name': 'ALC_allcoin'},\n",
       " {'time': '2018-10-29T10:04:56Z',\n",
       "  'price_btc': 2.11e-06,\n",
       "  'price_usd': 0.0136229351,\n",
       "  'name': 'ALC_allcoin'},\n",
       " {'time': '2018-10-29T10:11:54Z',\n",
       "  'price_btc': 2.13e-06,\n",
       "  'price_usd': 0.0136878322,\n",
       "  'name': 'ALC_allcoin'},\n",
       " {'time': '2018-10-29T10:18:45Z',\n",
       "  'price_btc': 2.12e-06,\n",
       "  'price_usd': 0.0136442314,\n",
       "  'name': 'ALC_allcoin'},\n",
       " {'time': '2018-10-29T10:23:55Z',\n",
       "  'price_btc': 2.12e-06,\n",
       "  'price_usd': 0.0136673093,\n",
       "  'name': 'ALC_allcoin'},\n",
       " {'time': '2018-10-29T10:26:51Z',\n",
       "  'price_btc': 2.11e-06,\n",
       "  'price_usd': 0.0136603852,\n",
       "  'name': 'ALC_allcoin'},\n",
       " {'time': '2018-10-29T10:32:53Z',\n",
       "  'price_btc': 2.11e-06,\n",
       "  'price_usd': 0.0136598306,\n",
       "  'name': 'ALC_allcoin'},\n",
       " {'time': '2018-10-29T10:39:55Z',\n",
       "  'price_btc': 2.12e-06,\n",
       "  'price_usd': 0.0136865953,\n",
       "  'name': 'ALC_allcoin'},\n",
       " {'time': '2018-10-29T10:44:56Z',\n",
       "  'price_btc': 2.12e-06,\n",
       "  'price_usd': 0.0136829784,\n",
       "  'name': 'ALC_allcoin'},\n",
       " {'time': '2018-10-29T10:50:54Z',\n",
       "  'price_btc': 2.12e-06,\n",
       "  'price_usd': 0.0136691016,\n",
       "  'name': 'ALC_allcoin'},\n",
       " {'time': '2018-10-29T10:55:52Z',\n",
       "  'price_btc': 2.11e-06,\n",
       "  'price_usd': 0.0136556847,\n",
       "  'name': 'ALC_allcoin'},\n",
       " {'time': '2018-10-29T11:00:55Z',\n",
       "  'price_btc': 2.12e-06,\n",
       "  'price_usd': 0.0136744281,\n",
       "  'name': 'ALC_allcoin'},\n",
       " {'time': '2018-10-29T11:07:53Z',\n",
       "  'price_btc': 2.12e-06,\n",
       "  'price_usd': 0.0136721579,\n",
       "  'name': 'ALC_allcoin'},\n",
       " {'time': '2018-10-29T11:13:55Z',\n",
       "  'price_btc': 2.12e-06,\n",
       "  'price_usd': 0.013677396,\n",
       "  'name': 'ALC_allcoin'},\n",
       " {'time': '2018-10-29T11:18:55Z',\n",
       "  'price_btc': 2.29e-06,\n",
       "  'price_usd': 0.01471714,\n",
       "  'name': 'ALC_allcoin'},\n",
       " {'time': '2018-10-29T11:23:55Z',\n",
       "  'price_btc': 2.28e-06,\n",
       "  'price_usd': 0.0146896434,\n",
       "  'name': 'ALC_allcoin'},\n",
       " {'time': '2018-10-29T11:27:53Z',\n",
       "  'price_btc': 2.13e-06,\n",
       "  'price_usd': 0.0136877408,\n",
       "  'name': 'ALC_allcoin'},\n",
       " {'time': '2018-10-29T11:36:53Z',\n",
       "  'price_btc': 2.14e-06,\n",
       "  'price_usd': 0.0136036716,\n",
       "  'name': 'ALC_allcoin'},\n",
       " {'time': '2018-10-29T11:40:53Z',\n",
       "  'price_btc': 2.13e-06,\n",
       "  'price_usd': 0.0136084574,\n",
       "  'name': 'ALC_allcoin'},\n",
       " {'time': '2018-10-29T11:44:57Z',\n",
       "  'price_btc': 2.13e-06,\n",
       "  'price_usd': 0.0135813477,\n",
       "  'name': 'ALC_allcoin'},\n",
       " {'time': '2018-10-29T11:51:54Z',\n",
       "  'price_btc': 2.12e-06,\n",
       "  'price_usd': 0.0135525943,\n",
       "  'name': 'ALC_allcoin'},\n",
       " {'time': '2018-10-29T11:58:52Z',\n",
       "  'price_btc': 2.12e-06,\n",
       "  'price_usd': 0.0135561034,\n",
       "  'name': 'ALC_allcoin'},\n",
       " {'time': '2018-10-29T12:04:57Z',\n",
       "  'price_btc': 2.13e-06,\n",
       "  'price_usd': 0.0135525154,\n",
       "  'name': 'ALC_allcoin'},\n",
       " {'time': '2018-10-29T12:08:46Z',\n",
       "  'price_btc': 2.12e-06,\n",
       "  'price_usd': 0.013559935,\n",
       "  'name': 'ALC_allcoin'},\n",
       " {'time': '2018-10-29T12:13:53Z',\n",
       "  'price_btc': 2.13e-06,\n",
       "  'price_usd': 0.0135534827,\n",
       "  'name': 'ALC_allcoin'},\n",
       " {'time': '2018-10-29T12:17:53Z',\n",
       "  'price_btc': 2.1e-06,\n",
       "  'price_usd': 0.0134510393,\n",
       "  'name': 'ALC_allcoin'},\n",
       " {'time': '2018-10-29T12:26:53Z',\n",
       "  'price_btc': 2.12e-06,\n",
       "  'price_usd': 0.0134538793,\n",
       "  'name': 'ALC_allcoin'},\n",
       " {'time': '2018-10-29T12:31:49Z',\n",
       "  'price_btc': 2.18e-06,\n",
       "  'price_usd': 0.0138707305,\n",
       "  'name': 'ALC_allcoin'},\n",
       " {'time': '2018-10-29T12:35:49Z',\n",
       "  'price_btc': 2.19e-06,\n",
       "  'price_usd': 0.0138628179,\n",
       "  'name': 'ALC_allcoin'},\n",
       " {'time': '2018-10-29T12:41:57Z',\n",
       "  'price_btc': 2.11e-06,\n",
       "  'price_usd': 0.0133864935,\n",
       "  'name': 'ALC_allcoin'},\n",
       " {'time': '2018-10-29T12:46:49Z',\n",
       "  'price_btc': 2.13e-06,\n",
       "  'price_usd': 0.0133952191,\n",
       "  'name': 'ALC_allcoin'},\n",
       " {'time': '2018-10-29T12:54:57Z',\n",
       "  'price_btc': 2.1e-06,\n",
       "  'price_usd': 0.0132800243,\n",
       "  'name': 'ALC_allcoin'},\n",
       " {'time': '2018-10-29T12:59:56Z',\n",
       "  'price_btc': 2.1e-06,\n",
       "  'price_usd': 0.0132923757,\n",
       "  'name': 'ALC_allcoin'},\n",
       " {'time': '2018-10-29T13:04:56Z',\n",
       "  'price_btc': 2.12e-06,\n",
       "  'price_usd': 0.0133740244,\n",
       "  'name': 'ALC_allcoin'},\n",
       " {'time': '2018-10-29T13:08:51Z',\n",
       "  'price_btc': 2.11e-06,\n",
       "  'price_usd': 0.0133714917,\n",
       "  'name': 'ALC_allcoin'},\n",
       " {'time': '2018-10-29T13:16:57Z',\n",
       "  'price_btc': 2.12e-06,\n",
       "  'price_usd': 0.0133683308,\n",
       "  'name': 'ALC_allcoin'},\n",
       " {'time': '2018-10-29T13:21:57Z',\n",
       "  'price_btc': 2.11e-06,\n",
       "  'price_usd': 0.0133688064,\n",
       "  'name': 'ALC_allcoin'},\n",
       " {'time': '2018-10-29T13:25:54Z',\n",
       "  'price_btc': 2.11e-06,\n",
       "  'price_usd': 0.0133872845,\n",
       "  'name': 'ALC_allcoin'},\n",
       " {'time': '2018-10-29T13:31:56Z',\n",
       "  'price_btc': 2.11e-06,\n",
       "  'price_usd': 0.0134051611,\n",
       "  'name': 'ALC_allcoin'},\n",
       " {'time': '2018-10-29T13:37:56Z',\n",
       "  'price_btc': 2.13e-06,\n",
       "  'price_usd': 0.0134549258,\n",
       "  'name': 'ALC_allcoin'},\n",
       " {'time': '2018-10-29T13:44:54Z',\n",
       "  'price_btc': 2.12e-06,\n",
       "  'price_usd': 0.0134186369,\n",
       "  'name': 'ALC_allcoin'},\n",
       " {'time': '2018-10-29T13:47:55Z',\n",
       "  'price_btc': 2.12e-06,\n",
       "  'price_usd': 0.0134109492,\n",
       "  'name': 'ALC_allcoin'},\n",
       " {'time': '2018-10-29T13:55:52Z',\n",
       "  'price_btc': 2.12e-06,\n",
       "  'price_usd': 0.0133498456,\n",
       "  'name': 'ALC_allcoin'},\n",
       " {'time': '2018-10-29T13:59:52Z',\n",
       "  'price_btc': 2.1e-06,\n",
       "  'price_usd': 0.0133282519,\n",
       "  'name': 'ALC_allcoin'},\n",
       " {'time': '2018-10-29T14:04:57Z',\n",
       "  'price_btc': 2.12e-06,\n",
       "  'price_usd': 0.0133877998,\n",
       "  'name': 'ALC_allcoin'},\n",
       " {'time': '2018-10-29T14:11:56Z',\n",
       "  'price_btc': 2.29e-06,\n",
       "  'price_usd': 0.0144737667,\n",
       "  'name': 'ALC_allcoin'},\n",
       " {'time': '2018-10-29T14:16:55Z',\n",
       "  'price_btc': 2.29e-06,\n",
       "  'price_usd': 0.0144694606,\n",
       "  'name': 'ALC_allcoin'},\n",
       " {'time': '2018-10-29T14:22:55Z',\n",
       "  'price_btc': 2.3e-06,\n",
       "  'price_usd': 0.014486491,\n",
       "  'name': 'ALC_allcoin'},\n",
       " {'time': '2018-10-29T14:26:54Z',\n",
       "  'price_btc': 2.29e-06,\n",
       "  'price_usd': 0.0144724111,\n",
       "  'name': 'ALC_allcoin'},\n",
       " {'time': '2018-10-29T14:31:52Z',\n",
       "  'price_btc': 2.29e-06,\n",
       "  'price_usd': 0.0144933131,\n",
       "  'name': 'ALC_allcoin'},\n",
       " {'time': '2018-10-29T14:39:54Z',\n",
       "  'price_btc': 2.29e-06,\n",
       "  'price_usd': 0.0145282266,\n",
       "  'name': 'ALC_allcoin'},\n",
       " {'time': '2018-10-29T14:44:57Z',\n",
       "  'price_btc': 2.3e-06,\n",
       "  'price_usd': 0.014552303,\n",
       "  'name': 'ALC_allcoin'},\n",
       " {'time': '2018-10-29T14:50:52Z',\n",
       "  'price_btc': 2.3e-06,\n",
       "  'price_usd': 0.0145829913,\n",
       "  'name': 'ALC_allcoin'},\n",
       " {'time': '2018-10-29T14:54:53Z',\n",
       "  'price_btc': 2.31e-06,\n",
       "  'price_usd': 0.014552921,\n",
       "  'name': 'ALC_allcoin'},\n",
       " {'time': '2018-10-29T15:02:57Z',\n",
       "  'price_btc': 2.3e-06,\n",
       "  'price_usd': 0.014540991,\n",
       "  'name': 'ALC_allcoin'},\n",
       " {'time': '2018-10-29T15:07:57Z',\n",
       "  'price_btc': 2.29e-06,\n",
       "  'price_usd': 0.0145032734,\n",
       "  'name': 'ALC_allcoin'},\n",
       " {'time': '2018-10-29T15:11:56Z',\n",
       "  'price_btc': 2.29e-06,\n",
       "  'price_usd': 0.0145053556,\n",
       "  'name': 'ALC_allcoin'},\n",
       " {'time': '2018-10-29T15:17:53Z',\n",
       "  'price_btc': 2.3e-06,\n",
       "  'price_usd': 0.0145423227,\n",
       "  'name': 'ALC_allcoin'},\n",
       " {'time': '2018-10-29T15:23:52Z',\n",
       "  'price_btc': 2.31e-06,\n",
       "  'price_usd': 0.0145762639,\n",
       "  'name': 'ALC_allcoin'},\n",
       " {'time': '2018-10-29T15:28:56Z',\n",
       "  'price_btc': 2.3e-06,\n",
       "  'price_usd': 0.0145174473,\n",
       "  'name': 'ALC_allcoin'},\n",
       " {'time': '2018-10-29T15:35:52Z',\n",
       "  'price_btc': 2.29e-06,\n",
       "  'price_usd': 0.0145392336,\n",
       "  'name': 'ALC_allcoin'},\n",
       " {'time': '2018-10-29T15:39:57Z',\n",
       "  'price_btc': 2.3e-06,\n",
       "  'price_usd': 0.014533246,\n",
       "  'name': 'ALC_allcoin'},\n",
       " {'time': '2018-10-29T15:45:57Z',\n",
       "  'price_btc': 2.29e-06,\n",
       "  'price_usd': 0.0145400269,\n",
       "  'name': 'ALC_allcoin'},\n",
       " {'time': '2018-10-29T15:50:53Z',\n",
       "  'price_btc': 2.29e-06,\n",
       "  'price_usd': 0.0145440832,\n",
       "  'name': 'ALC_allcoin'},\n",
       " {'time': '2018-10-29T15:57:57Z',\n",
       "  'price_btc': 2.3e-06,\n",
       "  'price_usd': 0.0145593881,\n",
       "  'name': 'ALC_allcoin'},\n",
       " {'time': '2018-10-29T16:03:49Z',\n",
       "  'price_btc': 2.31e-06,\n",
       "  'price_usd': 0.0145778226,\n",
       "  'name': 'ALC_allcoin'},\n",
       " {'time': '2018-10-29T16:07:52Z',\n",
       "  'price_btc': 2.3e-06,\n",
       "  'price_usd': 0.0145525382,\n",
       "  'name': 'ALC_allcoin'},\n",
       " {'time': '2018-10-29T16:10:56Z',\n",
       "  'price_btc': 2.3e-06,\n",
       "  'price_usd': 0.014527965,\n",
       "  'name': 'ALC_allcoin'},\n",
       " {'time': '2018-10-29T16:15:50Z',\n",
       "  'price_btc': 2.3e-06,\n",
       "  'price_usd': 0.0145250584,\n",
       "  'name': 'ALC_allcoin'},\n",
       " {'time': '2018-10-29T16:20:49Z',\n",
       "  'price_btc': 2.29e-06,\n",
       "  'price_usd': 0.0145019051,\n",
       "  'name': 'ALC_allcoin'},\n",
       " {'time': '2018-10-29T16:28:50Z',\n",
       "  'price_btc': 2.3e-06,\n",
       "  'price_usd': 0.0145285153,\n",
       "  'name': 'ALC_allcoin'},\n",
       " {'time': '2018-10-29T16:33:56Z',\n",
       "  'price_btc': 2.3e-06,\n",
       "  'price_usd': 0.014561334,\n",
       "  'name': 'ALC_allcoin'},\n",
       " {'time': '2018-10-29T16:38:57Z',\n",
       "  'price_btc': 2.13e-06,\n",
       "  'price_usd': 0.0135013682,\n",
       "  'name': 'ALC_allcoin'},\n",
       " {'time': '2018-10-29T16:45:54Z',\n",
       "  'price_btc': 2.14e-06,\n",
       "  'price_usd': 0.0135258463,\n",
       "  'name': 'ALC_allcoin'},\n",
       " {'time': '2018-10-29T16:50:56Z',\n",
       "  'price_btc': 2.14e-06,\n",
       "  'price_usd': 0.0134990358,\n",
       "  'name': 'ALC_allcoin'},\n",
       " {'time': '2018-10-29T16:56:59Z',\n",
       "  'price_btc': 2.13e-06,\n",
       "  'price_usd': 0.0135002239,\n",
       "  'name': 'ALC_allcoin'},\n",
       " {'time': '2018-10-29T17:01:56Z',\n",
       "  'price_btc': 2.13e-06,\n",
       "  'price_usd': 0.0135053994,\n",
       "  'name': 'ALC_allcoin'},\n",
       " {'time': '2018-10-29T17:08:55Z',\n",
       "  'price_btc': 2.14e-06,\n",
       "  'price_usd': 0.0135014894,\n",
       "  'name': 'ALC_allcoin'},\n",
       " {'time': '2018-10-29T17:13:52Z',\n",
       "  'price_btc': 2.13e-06,\n",
       "  'price_usd': 0.0134936389,\n",
       "  'name': 'ALC_allcoin'},\n",
       " {'time': '2018-10-29T17:18:57Z',\n",
       "  'price_btc': 2.14e-06,\n",
       "  'price_usd': 0.0135156695,\n",
       "  'name': 'ALC_allcoin'},\n",
       " {'time': '2018-10-29T17:23:53Z',\n",
       "  'price_btc': 2.13e-06,\n",
       "  'price_usd': 0.0134652398,\n",
       "  'name': 'ALC_allcoin'},\n",
       " {'time': '2018-10-29T17:31:56Z',\n",
       "  'price_btc': 2.14e-06,\n",
       "  'price_usd': 0.0134895069,\n",
       "  'name': 'ALC_allcoin'},\n",
       " {'time': '2018-10-29T17:36:59Z',\n",
       "  'price_btc': 2.13e-06,\n",
       "  'price_usd': 0.0134974084,\n",
       "  'name': 'ALC_allcoin'},\n",
       " {'time': '2018-10-29T17:40:54Z',\n",
       "  'price_btc': 2.13e-06,\n",
       "  'price_usd': 0.01343524,\n",
       "  'name': 'ALC_allcoin'},\n",
       " {'time': '2018-10-29T17:49:54Z',\n",
       "  'price_btc': 2.13e-06,\n",
       "  'price_usd': 0.0134932745,\n",
       "  'name': 'ALC_allcoin'},\n",
       " {'time': '2018-10-29T17:54:59Z',\n",
       "  'price_btc': 2.14e-06,\n",
       "  'price_usd': 0.0134831116,\n",
       "  'name': 'ALC_allcoin'},\n",
       " {'time': '2018-10-29T17:58:55Z',\n",
       "  'price_btc': 2.14e-06,\n",
       "  'price_usd': 0.0135191397,\n",
       "  'name': 'ALC_allcoin'},\n",
       " {'time': '2018-10-29T18:04:52Z',\n",
       "  'price_btc': 2.14e-06,\n",
       "  'price_usd': 0.0135125548,\n",
       "  'name': 'ALC_allcoin'},\n",
       " {'time': '2018-10-29T18:10:56Z',\n",
       "  'price_btc': 2.14e-06,\n",
       "  'price_usd': 0.0135151897,\n",
       "  'name': 'ALC_allcoin'},\n",
       " {'time': '2018-10-29T18:16:52Z',\n",
       "  'price_btc': 2.14e-06,\n",
       "  'price_usd': 0.0135265301,\n",
       "  'name': 'ALC_allcoin'},\n",
       " {'time': '2018-10-29T18:18:55Z',\n",
       "  'price_btc': 2.14e-06,\n",
       "  'price_usd': 0.013481247,\n",
       "  'name': 'ALC_allcoin'},\n",
       " {'time': '2018-10-29T18:27:51Z',\n",
       "  'price_btc': 2.13e-06,\n",
       "  'price_usd': 0.0134544622,\n",
       "  'name': 'ALC_allcoin'},\n",
       " {'time': '2018-10-29T18:34:55Z',\n",
       "  'price_btc': 2.14e-06,\n",
       "  'price_usd': 0.013496009,\n",
       "  'name': 'ALC_allcoin'}]"
      ]
     },
     "execution_count": 13,
     "metadata": {},
     "output_type": "execute_result"
    }
   ],
   "source": [
    "points"
   ]
  },
  {
   "cell_type": "code",
   "execution_count": 23,
   "metadata": {},
   "outputs": [],
   "source": [
    "for x in output_dict:\n",
    "    results = client.query(('SELECT * from \"%s\" ORDER by time DESC LIMIT 1000') %  x['name'])\n",
    "    points = list(results.get_points())\n",
    "    for i, p in enumerate(points):\n",
    "        #print('index %d, value %s' % (i, p)) \n",
    "        points[i]['name'] = x['name']\n",
    "        producer.send_messages('test', json.dumps(points[i], default=json_util.default).encode('utf-8'))\n"
   ]
  },
  {
   "cell_type": "code",
   "execution_count": null,
   "metadata": {},
   "outputs": [],
   "source": []
  },
  {
   "cell_type": "code",
   "execution_count": 15,
   "metadata": {},
   "outputs": [
    {
     "name": "stdout",
     "output_type": "stream",
     "text": [
      "{\"statement_id\": 0, \"series\": [{\"name\": \"ALC_allcoin\", \"columns\": [\"time\", \"price_btc\", \"price_usd\"], \"values\": [[\"2018-10-28T19:25:54Z\", 2.28e-06, 0.01474555]]}]}\n"
     ]
    }
   ],
   "source": [
    "out = json.dumps(results.raw)\n",
    "print(out)"
   ]
  },
  {
   "cell_type": "code",
   "execution_count": 28,
   "metadata": {},
   "outputs": [
    {
     "name": "stdout",
     "output_type": "stream",
     "text": [
      "[{'name': '611_USD'}]\n"
     ]
    }
   ],
   "source": [
    "print(output_dict)"
   ]
  },
  {
   "cell_type": "markdown",
   "metadata": {},
   "source": [
    "## Working with JSON output ##"
   ]
  },
  {
   "cell_type": "code",
   "execution_count": 21,
   "metadata": {
    "scrolled": true
   },
   "outputs": [
    {
     "name": "stdout",
     "output_type": "stream",
     "text": [
      "[{'time': '2018-10-28T19:25:38Z', 'marketcap': 58289, 'price': 0.1267165628, 'volume': 23}]\n",
      "611_USD message sent\n"
     ]
    }
   ],
   "source": [
    "for x in output_dict:\n",
    "    results = client.query(('SELECT * from \"%s\" ORDER by time DESC LIMIT 1') %  x['name'])\n",
    "    \n",
    "    points = list(results.get_points())\n",
    "    print(points)\n",
    "    data_file = x['name']+'.json'\n",
    "    with open(data_file, 'w') as outfile:\n",
    "        #json.dump(points, outfile)\n",
    "        producer.send_messages('test', json.dumps(points, default=json_util.default).encode('utf-8'))\n",
    "        print(x['name']+' message sent')\n",
    "# 611_USD.json\n",
    "#results.raw\n",
    "#print(points)"
   ]
  },
  {
   "cell_type": "code",
   "execution_count": 37,
   "metadata": {},
   "outputs": [
    {
     "data": {
      "text/plain": [
       "{'statement_id': 0,\n",
       " 'series': [{'name': '611_USD',\n",
       "   'columns': ['time', 'marketcap', 'price', 'volume'],\n",
       "   'values': [['2018-10-22T19:35:33Z', 65116, 0.1417095519, 122]]}]}"
      ]
     },
     "execution_count": 37,
     "metadata": {},
     "output_type": "execute_result"
    }
   ],
   "source": [
    "results.raw    "
   ]
  },
  {
   "cell_type": "code",
   "execution_count": 188,
   "metadata": {},
   "outputs": [],
   "source": [
    "# save relusts.raw in a json file\n",
    "data_file = output_dict['name']\n",
    "with open('data.json', 'w') as outfile:\n",
    "    json.dump(results.raw, outfile)"
   ]
  },
  {
   "cell_type": "code",
   "execution_count": 38,
   "metadata": {},
   "outputs": [],
   "source": [
    "# save columns and values in a json file\n",
    "with open('data.json', 'w') as outfile:\n",
    "    json.dump(points, outfile)"
   ]
  },
  {
   "cell_type": "code",
   "execution_count": 131,
   "metadata": {},
   "outputs": [],
   "source": [
    "def read_data(measurements):\n",
    "    client = InfluxDBClient(host='influxdb-influxdb.default.svc.cluster.local', port=8086)\n",
    "    client.switch_database('prices')\n",
    "    \n",
    "    for x in measurements:\n",
    "        results = client.query(('SELECT * from \"%s\" ORDER by time DESC LIMIT 1') %  x['name'])\n",
    "        points = list(results.get_points())\n",
    "        #params = points[0]\n",
    "        #params['name'] = x['name']\n",
    "        \n",
    "        \n",
    "        points[0]['name'] = x['name']\n",
    "        #producer.send_messages('test', json.dumps(points[0], default=json_util.default).encode('utf-8'))\n",
    "\n",
    "        \n",
    "\n",
    "        #data_file = x['name']+'.json'\n",
    "        #with open(data_file, 'w') as outfile:\n",
    "            #json.dump(points, outfile)\n",
    "    return points[0]\n",
    "    #return params"
   ]
  },
  {
   "cell_type": "code",
   "execution_count": 132,
   "metadata": {},
   "outputs": [
    {
     "data": {
      "text/plain": [
       "{'time': '2018-10-28T20:58:37Z',\n",
       " 'marketcap': 57960,\n",
       " 'price': 0.1259996609,\n",
       " 'volume': 23,\n",
       " 'name': '611_USD'}"
      ]
     },
     "execution_count": 132,
     "metadata": {},
     "output_type": "execute_result"
    }
   ],
   "source": [
    "read_data(output_dict)\n"
   ]
  },
  {
   "cell_type": "code",
   "execution_count": 118,
   "metadata": {},
   "outputs": [
    {
     "data": {
      "text/plain": [
       "NoneType"
      ]
     },
     "execution_count": 118,
     "metadata": {},
     "output_type": "execute_result"
    }
   ],
   "source": [
    "type(x)"
   ]
  },
  {
   "cell_type": "code",
   "execution_count": 106,
   "metadata": {},
   "outputs": [
    {
     "name": "stdout",
     "output_type": "stream",
     "text": [
      "<built-in method keys of dict object at 0x0128BDE0>\n"
     ]
    }
   ],
   "source": [
    "print(x.keys)"
   ]
  },
  {
   "cell_type": "code",
   "execution_count": 61,
   "metadata": {},
   "outputs": [
    {
     "data": {
      "text/plain": [
       "'[{\"time\": \"2018-10-28T20:07:33Z\", \"marketcap\": 57928, \"price\": 0.1259316913, \"volume\": 23, \"name\": \"611_USD\"}]'"
      ]
     },
     "execution_count": 61,
     "metadata": {},
     "output_type": "execute_result"
    }
   ],
   "source": [
    "json.dumps(x)"
   ]
  },
  {
   "cell_type": "markdown",
   "metadata": {},
   "source": [
    "## Kafka ##"
   ]
  },
  {
   "cell_type": "code",
   "execution_count": 19,
   "metadata": {},
   "outputs": [],
   "source": [
    "from kafka import SimpleProducer, KafkaClient\n",
    "\n",
    "\n",
    "kafka = KafkaClient('blockchain-kafka-kafka.default.svc.cluster.local:9092')\n",
    "producer = SimpleProducer(kafka)\n",
    "#producer.send_messages('test', b'async message')"
   ]
  },
  {
   "cell_type": "code",
   "execution_count": 21,
   "metadata": {},
   "outputs": [],
   "source": [
    "import yaml\n",
    "import json\n",
    "from bson import json_util\n"
   ]
  },
  {
   "cell_type": "code",
   "execution_count": 22,
   "metadata": {},
   "outputs": [
    {
     "data": {
      "text/plain": [
       "'1.4.3'"
      ]
     },
     "execution_count": 22,
     "metadata": {},
     "output_type": "execute_result"
    }
   ],
   "source": [
    "import kafka as k\n",
    "k.__version__"
   ]
  },
  {
   "cell_type": "code",
   "execution_count": 4,
   "metadata": {},
   "outputs": [],
   "source": [
    "with open('611_USD.json') as f:\n",
    "    data = json.load(f)"
   ]
  },
  {
   "cell_type": "code",
   "execution_count": 5,
   "metadata": {},
   "outputs": [
    {
     "name": "stdout",
     "output_type": "stream",
     "text": [
      "[{'time': '2018-10-22T19:46:29Z', 'marketcap': 65429, 'price': 0.1423885136, 'volume': 123}]\n"
     ]
    }
   ],
   "source": [
    "print(data)"
   ]
  },
  {
   "cell_type": "code",
   "execution_count": 22,
   "metadata": {
    "scrolled": true
   },
   "outputs": [],
   "source": [
    "with open('611_USD.json') as f:\n",
    "    for line in f:\n",
    "        d = yaml.safe_load(line)\n",
    "        jd = json.dumps(d)\n",
    "       \n",
    "        producer.send_messages('test', json.dumps(jd, default=json_util.default).encode('utf-8'))\n"
   ]
  },
  {
   "cell_type": "code",
   "execution_count": 8,
   "metadata": {},
   "outputs": [],
   "source": [
    "# send 10 messages to kafka\n",
    "for i in range(10):\n",
    "    data = { 'tag ': 'blah',\n",
    "        'name' : 'sam',\n",
    "        'index' : i,\n",
    "        'score': \n",
    "            {'row1': 100,\n",
    "             'row2': 200\n",
    "        }\n",
    "    }   \n",
    "    producer.send_messages('test', json.dumps(data, indent=4, default=json_util.default).encode('utf-8'))"
   ]
  },
  {
   "cell_type": "code",
   "execution_count": null,
   "metadata": {},
   "outputs": [],
   "source": [
    "for x in output_dict:\n",
    "    results = client.query(('SELECT * from \"%s\" ORDER by time DESC LIMIT 1') %  x['name'])\n",
    "    \n",
    "    points = list(results.get_points())\n",
    "    print(points)\n",
    "    data_file = x['name']+'.json'\n",
    "    with open(data_file, 'w') as outfile:\n",
    "        #json.dump(points, outfile)\n",
    "        #producer.send_messages('test', json.dumps(points, default=json_util.default).encode('utf-8'))\n",
    "        print(x['name']+' message sent')"
   ]
  }
 ],
 "metadata": {
  "kernelspec": {
   "display_name": "Python 3",
   "language": "python",
   "name": "python3"
  },
  "language_info": {
   "codemirror_mode": {
    "name": "ipython",
    "version": 3
   },
   "file_extension": ".py",
   "mimetype": "text/x-python",
   "name": "python",
   "nbconvert_exporter": "python",
   "pygments_lexer": "ipython3",
   "version": "3.7.0"
  }
 },
 "nbformat": 4,
 "nbformat_minor": 2
}
