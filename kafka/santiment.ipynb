{
 "cells": [
  {
   "cell_type": "markdown",
   "metadata": {},
   "source": [
    "## InfluxDB ##"
   ]
  },
  {
   "cell_type": "code",
   "execution_count": 2,
   "metadata": {},
   "outputs": [],
   "source": [
    "from influxdb import InfluxDBClient\n",
    "import json"
   ]
  },
  {
   "cell_type": "code",
   "execution_count": 3,
   "metadata": {},
   "outputs": [],
   "source": [
    "client = InfluxDBClient(host='influxdb-influxdb.default.svc.cluster.local', port=8086)"
   ]
  },
  {
   "cell_type": "code",
   "execution_count": 4,
   "metadata": {},
   "outputs": [],
   "source": [
    "dbs= client.get_list_database()"
   ]
  },
  {
   "cell_type": "code",
   "execution_count": 5,
   "metadata": {},
   "outputs": [],
   "source": [
    "client.switch_database('prices')"
   ]
  },
  {
   "cell_type": "code",
   "execution_count": 6,
   "metadata": {},
   "outputs": [],
   "source": [
    "measurements = client.get_list_measurements()"
   ]
  },
  {
   "cell_type": "code",
   "execution_count": 7,
   "metadata": {},
   "outputs": [
    {
     "data": {
      "text/plain": [
       "{'statement_id': 0,\n",
       " 'series': [{'name': 'BTC_bitcoin',\n",
       "   'columns': ['time',\n",
       "    'marketcap_usd',\n",
       "    'price_btc',\n",
       "    'price_usd',\n",
       "    'volume_usd'],\n",
       "   'values': [['2018-10-31T20:53:17Z',\n",
       "     109777211541,\n",
       "     1,\n",
       "     6326.35554406,\n",
       "     4236186622]]}]}"
      ]
     },
     "execution_count": 7,
     "metadata": {},
     "output_type": "execute_result"
    }
   ],
   "source": [
    "results = client.query('select * from BTC_bitcoin ORDER by time DESC LIMIT 1')\n",
    "results.raw"
   ]
  },
  {
   "cell_type": "code",
   "execution_count": 8,
   "metadata": {},
   "outputs": [],
   "source": [
    "str = str(measurements)"
   ]
  },
  {
   "cell_type": "code",
   "execution_count": 9,
   "metadata": {},
   "outputs": [],
   "source": [
    "str = str.replace(\"\\'\", \"\\\"\")"
   ]
  },
  {
   "cell_type": "code",
   "execution_count": 10,
   "metadata": {},
   "outputs": [],
   "source": [
    "raw_input = json.loads(str)"
   ]
  },
  {
   "cell_type": "code",
   "execution_count": 11,
   "metadata": {},
   "outputs": [],
   "source": [
    "output_dict = [x for x in raw_input if x['name'] == 'BTC_bitcoin']"
   ]
  },
  {
   "cell_type": "code",
   "execution_count": 12,
   "metadata": {},
   "outputs": [
    {
     "data": {
      "text/plain": [
       "[{'name': 'BTC_bitcoin'}]"
      ]
     },
     "execution_count": 12,
     "metadata": {},
     "output_type": "execute_result"
    }
   ],
   "source": [
    "output_dict"
   ]
  },
  {
   "cell_type": "code",
   "execution_count": 12,
   "metadata": {},
   "outputs": [],
   "source": [
    "clear_USD = [x for x in measurements \n",
    "               if x['name'].endswith('_USD') == False\n",
    "              ]"
   ]
  },
  {
   "cell_type": "code",
   "execution_count": 13,
   "metadata": {},
   "outputs": [],
   "source": [
    "clear_BTC = [x for x in clear_USD \n",
    "               if x['name'].endswith('_BTC') == False\n",
    "              ]"
   ]
  },
  {
   "cell_type": "code",
   "execution_count": 14,
   "metadata": {},
   "outputs": [],
   "source": [
    "clear_BTC1 = [x for x in clear_BTC \n",
    "               if x['name'].endswith('coin') \n",
    "              ]"
   ]
  },
  {
   "cell_type": "code",
   "execution_count": 13,
   "metadata": {},
   "outputs": [],
   "source": [
    "for x in output_dict:\n",
    "    results = client.query(('SELECT * from \"%s\" WHERE time >= now() - 1d LIMIT 100') %  x['name'])\n",
    "    points = list(results.get_points())\n",
    "    #points[0]['name'] = x['name']\n",
    "    for p in points:\n",
    "        p['name'] = x['name']\n",
    "    #print(points)\n",
    "      \n"
   ]
  },
  {
   "cell_type": "code",
   "execution_count": 14,
   "metadata": {},
   "outputs": [
    {
     "data": {
      "text/plain": [
       "[{'time': '2018-10-30T21:02:16Z',\n",
       "  'marketcap_usd': 109824690991,\n",
       "  'price_btc': 1,\n",
       "  'price_usd': 6329.86216286,\n",
       "  'volume_usd': 3759406473,\n",
       "  'name': 'BTC_bitcoin'},\n",
       " {'time': '2018-10-30T21:04:00Z',\n",
       "  'marketcap_usd': 109834543107,\n",
       "  'price_btc': 1,\n",
       "  'price_usd': 6330.43,\n",
       "  'volume_usd': 3760800000,\n",
       "  'name': 'BTC_bitcoin'},\n",
       " {'time': '2018-10-30T21:07:13Z',\n",
       "  'marketcap_usd': 109884758732,\n",
       "  'price_btc': 1,\n",
       "  'price_usd': 6333.32423062,\n",
       "  'volume_usd': 3764836824,\n",
       "  'name': 'BTC_bitcoin'},\n",
       " {'time': '2018-10-30T21:09:00Z',\n",
       "  'marketcap_usd': 109839748182,\n",
       "  'price_btc': 1,\n",
       "  'price_usd': 6330.73,\n",
       "  'volume_usd': 3758690000,\n",
       "  'name': 'BTC_bitcoin'},\n",
       " {'time': '2018-10-30T21:11:15Z',\n",
       "  'marketcap_usd': 109900786607,\n",
       "  'price_btc': 1,\n",
       "  'price_usd': 6334.24801412,\n",
       "  'volume_usd': 3763869558,\n",
       "  'name': 'BTC_bitcoin'},\n",
       " {'time': '2018-10-30T21:14:00Z',\n",
       "  'marketcap_usd': 109909149182,\n",
       "  'price_btc': 1,\n",
       "  'price_usd': 6334.73,\n",
       "  'volume_usd': 3764020000,\n",
       "  'name': 'BTC_bitcoin'},\n",
       " {'time': '2018-10-30T21:19:00Z',\n",
       "  'marketcap_usd': 109935914410,\n",
       "  'price_btc': 1,\n",
       "  'price_usd': 6336.25,\n",
       "  'volume_usd': 3762060000,\n",
       "  'name': 'BTC_bitcoin'},\n",
       " {'time': '2018-10-30T21:20:15Z',\n",
       "  'marketcap_usd': 109901495810,\n",
       "  'price_btc': 1,\n",
       "  'price_usd': 6334.26625471,\n",
       "  'volume_usd': 3764396600,\n",
       "  'name': 'BTC_bitcoin'},\n",
       " {'time': '2018-10-30T21:24:00Z',\n",
       "  'marketcap_usd': 109920299129,\n",
       "  'price_btc': 1,\n",
       "  'price_usd': 6335.35,\n",
       "  'volume_usd': 3766890000,\n",
       "  'name': 'BTC_bitcoin'},\n",
       " {'time': '2018-10-30T21:24:13Z',\n",
       "  'marketcap_usd': 109874806597,\n",
       "  'price_btc': 1,\n",
       "  'price_usd': 6332.72799919,\n",
       "  'volume_usd': 3768153447,\n",
       "  'name': 'BTC_bitcoin'},\n",
       " {'time': '2018-10-30T21:29:00Z',\n",
       "  'marketcap_usd': 109856796987,\n",
       "  'price_btc': 1,\n",
       "  'price_usd': 6331.69,\n",
       "  'volume_usd': 3768580000,\n",
       "  'name': 'BTC_bitcoin'},\n",
       " {'time': '2018-10-30T21:30:14Z',\n",
       "  'marketcap_usd': 109820231741,\n",
       "  'price_btc': 1,\n",
       "  'price_usd': 6329.58253089,\n",
       "  'volume_usd': 3776799217,\n",
       "  'name': 'BTC_bitcoin'},\n",
       " {'time': '2018-10-30T21:34:00Z',\n",
       "  'marketcap_usd': 109767269377,\n",
       "  'price_btc': 1,\n",
       "  'price_usd': 6326.53,\n",
       "  'volume_usd': 3776770000,\n",
       "  'name': 'BTC_bitcoin'},\n",
       " {'time': '2018-10-30T21:35:14Z',\n",
       "  'marketcap_usd': 109857641412,\n",
       "  'price_btc': 1,\n",
       "  'price_usd': 6331.73866911,\n",
       "  'volume_usd': 3779117981,\n",
       "  'name': 'BTC_bitcoin'},\n",
       " {'time': '2018-10-30T21:39:00Z',\n",
       "  'marketcap_usd': 109891911795,\n",
       "  'price_btc': 1,\n",
       "  'price_usd': 6333.7,\n",
       "  'volume_usd': 3781810000,\n",
       "  'name': 'BTC_bitcoin'},\n",
       " {'time': '2018-10-30T21:39:12Z',\n",
       "  'marketcap_usd': 109850693746,\n",
       "  'price_btc': 1,\n",
       "  'price_usd': 6331.32436784,\n",
       "  'volume_usd': 3775845094,\n",
       "  'name': 'BTC_bitcoin'},\n",
       " {'time': '2018-10-30T21:44:00Z',\n",
       "  'marketcap_usd': 109941533796,\n",
       "  'price_btc': 1,\n",
       "  'price_usd': 6336.56,\n",
       "  'volume_usd': 3784250000,\n",
       "  'name': 'BTC_bitcoin'},\n",
       " {'time': '2018-10-30T21:48:13Z',\n",
       "  'marketcap_usd': 109889560668,\n",
       "  'price_btc': 1,\n",
       "  'price_usd': 6333.5644911,\n",
       "  'volume_usd': 3787551222,\n",
       "  'name': 'BTC_bitcoin'},\n",
       " {'time': '2018-10-30T21:49:01Z',\n",
       "  'marketcap_usd': 109889482746,\n",
       "  'price_btc': 1,\n",
       "  'price_usd': 6333.56,\n",
       "  'volume_usd': 3787550000,\n",
       "  'name': 'BTC_bitcoin'},\n",
       " {'time': '2018-10-30T21:52:12Z',\n",
       "  'marketcap_usd': 109865800218,\n",
       "  'price_btc': 1,\n",
       "  'price_usd': 6332.19504034,\n",
       "  'volume_usd': 3795079034,\n",
       "  'name': 'BTC_bitcoin'},\n",
       " {'time': '2018-10-30T21:54:01Z',\n",
       "  'marketcap_usd': 109853741025,\n",
       "  'price_btc': 1,\n",
       "  'price_usd': 6331.5,\n",
       "  'volume_usd': 3794240000,\n",
       "  'name': 'BTC_bitcoin'},\n",
       " {'time': '2018-10-30T21:57:14Z',\n",
       "  'marketcap_usd': 109926580254,\n",
       "  'price_btc': 1,\n",
       "  'price_usd': 6335.68901271,\n",
       "  'volume_usd': 3799280966,\n",
       "  'name': 'BTC_bitcoin'},\n",
       " {'time': '2018-10-30T21:59:00Z',\n",
       "  'marketcap_usd': 109879404363,\n",
       "  'price_btc': 1,\n",
       "  'price_usd': 6332.97,\n",
       "  'volume_usd': 3799650000,\n",
       "  'name': 'BTC_bitcoin'},\n",
       " {'time': '2018-10-30T22:02:11Z',\n",
       "  'marketcap_usd': 109963041049,\n",
       "  'price_btc': 1,\n",
       "  'price_usd': 6337.79045404,\n",
       "  'volume_usd': 3777895774,\n",
       "  'name': 'BTC_bitcoin'},\n",
       " {'time': '2018-10-30T22:04:00Z',\n",
       "  'marketcap_usd': 109997386913,\n",
       "  'price_btc': 1,\n",
       "  'price_usd': 6339.77,\n",
       "  'volume_usd': 3772260000,\n",
       "  'name': 'BTC_bitcoin'},\n",
       " {'time': '2018-10-30T22:09:00Z',\n",
       "  'marketcap_usd': 110005888597,\n",
       "  'price_btc': 1,\n",
       "  'price_usd': 6340.26,\n",
       "  'volume_usd': 4053560000,\n",
       "  'name': 'BTC_bitcoin'},\n",
       " {'time': '2018-10-30T22:10:14Z',\n",
       "  'marketcap_usd': 109941074571,\n",
       "  'price_btc': 1,\n",
       "  'price_usd': 6336.52440199,\n",
       "  'volume_usd': 4058593628,\n",
       "  'name': 'BTC_bitcoin'},\n",
       " {'time': '2018-10-30T22:14:00Z',\n",
       "  'marketcap_usd': 109940651187,\n",
       "  'price_btc': 1,\n",
       "  'price_usd': 6336.5,\n",
       "  'volume_usd': 3780580000,\n",
       "  'name': 'BTC_bitcoin'},\n",
       " {'time': '2018-10-30T22:15:15Z',\n",
       "  'marketcap_usd': 110029969068,\n",
       "  'price_btc': 1,\n",
       "  'price_usd': 6341.6478934,\n",
       "  'volume_usd': 3780731000,\n",
       "  'name': 'BTC_bitcoin'},\n",
       " {'time': '2018-10-30T22:19:00Z',\n",
       "  'marketcap_usd': 109977403905,\n",
       "  'price_btc': 1,\n",
       "  'price_usd': 6338.6,\n",
       "  'volume_usd': 3779000000,\n",
       "  'name': 'BTC_bitcoin'},\n",
       " {'time': '2018-10-30T22:20:12Z',\n",
       "  'marketcap_usd': 109962987686,\n",
       "  'price_btc': 1,\n",
       "  'price_usd': 6337.76911434,\n",
       "  'volume_usd': 3775625736,\n",
       "  'name': 'BTC_bitcoin'},\n",
       " {'time': '2018-10-30T22:24:00Z',\n",
       "  'marketcap_usd': 109944611601,\n",
       "  'price_btc': 1,\n",
       "  'price_usd': 6336.71,\n",
       "  'volume_usd': 3772150000,\n",
       "  'name': 'BTC_bitcoin'},\n",
       " {'time': '2018-10-30T22:26:15Z',\n",
       "  'marketcap_usd': 109926122743,\n",
       "  'price_btc': 1,\n",
       "  'price_usd': 6335.64438582,\n",
       "  'volume_usd': 3779366558,\n",
       "  'name': 'BTC_bitcoin'},\n",
       " {'time': '2018-10-30T22:29:01Z',\n",
       "  'marketcap_usd': 109812401363,\n",
       "  'price_btc': 1,\n",
       "  'price_usd': 6329.09,\n",
       "  'volume_usd': 3772800000,\n",
       "  'name': 'BTC_bitcoin'},\n",
       " {'time': '2018-10-30T22:30:13Z',\n",
       "  'marketcap_usd': 109823557196,\n",
       "  'price_btc': 1,\n",
       "  'price_usd': 6329.7329717,\n",
       "  'volume_usd': 3773285713,\n",
       "  'name': 'BTC_bitcoin'},\n",
       " {'time': '2018-10-30T22:34:00Z',\n",
       "  'marketcap_usd': 109914074853,\n",
       "  'price_btc': 1,\n",
       "  'price_usd': 6334.95,\n",
       "  'volume_usd': 3775650000,\n",
       "  'name': 'BTC_bitcoin'},\n",
       " {'time': '2018-10-30T22:38:14Z',\n",
       "  'marketcap_usd': 109823701123,\n",
       "  'price_btc': 1,\n",
       "  'price_usd': 6329.74126705,\n",
       "  'volume_usd': 3769747904,\n",
       "  'name': 'BTC_bitcoin'},\n",
       " {'time': '2018-10-30T22:39:00Z',\n",
       "  'marketcap_usd': 109823679139,\n",
       "  'price_btc': 1,\n",
       "  'price_usd': 6329.74,\n",
       "  'volume_usd': 3769750000,\n",
       "  'name': 'BTC_bitcoin'},\n",
       " {'time': '2018-10-30T22:42:13Z',\n",
       "  'marketcap_usd': 109846883992,\n",
       "  'price_btc': 1,\n",
       "  'price_usd': 6331.07742272,\n",
       "  'volume_usd': 3783111931,\n",
       "  'name': 'BTC_bitcoin'},\n",
       " {'time': '2018-10-30T22:44:00Z',\n",
       "  'marketcap_usd': 109901756052,\n",
       "  'price_btc': 1,\n",
       "  'price_usd': 6334.24,\n",
       "  'volume_usd': 3779920000,\n",
       "  'name': 'BTC_bitcoin'},\n",
       " {'time': '2018-10-30T22:48:12Z',\n",
       "  'marketcap_usd': 109787827528,\n",
       "  'price_btc': 1,\n",
       "  'price_usd': 6327.67367534,\n",
       "  'volume_usd': 3793135488,\n",
       "  'name': 'BTC_bitcoin'},\n",
       " {'time': '2018-10-30T22:49:01Z',\n",
       "  'marketcap_usd': 109787763759,\n",
       "  'price_btc': 1,\n",
       "  'price_usd': 6327.67,\n",
       "  'volume_usd': 3793140000,\n",
       "  'name': 'BTC_bitcoin'},\n",
       " {'time': '2018-10-30T22:53:13Z',\n",
       "  'marketcap_usd': 109869839283,\n",
       "  'price_btc': 1,\n",
       "  'price_usd': 6332.40046182,\n",
       "  'volume_usd': 3794967964,\n",
       "  'name': 'BTC_bitcoin'},\n",
       " {'time': '2018-10-30T22:54:00Z',\n",
       "  'marketcap_usd': 109869831270,\n",
       "  'price_btc': 1,\n",
       "  'price_usd': 6332.4,\n",
       "  'volume_usd': 3794970000,\n",
       "  'name': 'BTC_bitcoin'},\n",
       " {'time': '2018-10-30T22:59:00Z',\n",
       "  'marketcap_usd': 109917085320,\n",
       "  'price_btc': 1,\n",
       "  'price_usd': 6335.11,\n",
       "  'volume_usd': 3760420000,\n",
       "  'name': 'BTC_bitcoin'},\n",
       " {'time': '2018-10-30T23:01:14Z',\n",
       "  'marketcap_usd': 109909029800,\n",
       "  'price_btc': 1,\n",
       "  'price_usd': 6334.64571724,\n",
       "  'volume_usd': 3738012522,\n",
       "  'name': 'BTC_bitcoin'},\n",
       " {'time': '2018-10-30T23:04:00Z',\n",
       "  'marketcap_usd': 109914309246,\n",
       "  'price_btc': 1,\n",
       "  'price_usd': 6334.95,\n",
       "  'volume_usd': 3747370000,\n",
       "  'name': 'BTC_bitcoin'},\n",
       " {'time': '2018-10-30T23:05:13Z',\n",
       "  'marketcap_usd': 109911896614,\n",
       "  'price_btc': 1,\n",
       "  'price_usd': 6334.81094703,\n",
       "  'volume_usd': 3747447604,\n",
       "  'name': 'BTC_bitcoin'},\n",
       " {'time': '2018-10-30T23:09:00Z',\n",
       "  'marketcap_usd': 109968269183,\n",
       "  'price_btc': 1,\n",
       "  'price_usd': 6338.06,\n",
       "  'volume_usd': 3751720000,\n",
       "  'name': 'BTC_bitcoin'},\n",
       " {'time': '2018-10-30T23:10:13Z',\n",
       "  'marketcap_usd': 109856655701,\n",
       "  'price_btc': 1,\n",
       "  'price_usd': 6331.62711753,\n",
       "  'volume_usd': 3750137773,\n",
       "  'name': 'BTC_bitcoin'},\n",
       " {'time': '2018-10-30T23:14:00Z',\n",
       "  'marketcap_usd': 110006440200,\n",
       "  'price_btc': 1,\n",
       "  'price_usd': 6340.26,\n",
       "  'volume_usd': 3757040000,\n",
       "  'name': 'BTC_bitcoin'},\n",
       " {'time': '2018-10-30T23:16:12Z',\n",
       "  'marketcap_usd': 109961003847,\n",
       "  'price_btc': 1,\n",
       "  'price_usd': 6337.64125978,\n",
       "  'volume_usd': 3754373487,\n",
       "  'name': 'BTC_bitcoin'},\n",
       " {'time': '2018-10-30T23:19:00Z',\n",
       "  'marketcap_usd': 109938667170,\n",
       "  'price_btc': 1,\n",
       "  'price_usd': 6336.34,\n",
       "  'volume_usd': 3757100000,\n",
       "  'name': 'BTC_bitcoin'},\n",
       " {'time': '2018-10-30T23:23:13Z',\n",
       "  'marketcap_usd': 109974161819,\n",
       "  'price_btc': 1,\n",
       "  'price_usd': 6338.38574215,\n",
       "  'volume_usd': 3756185199,\n",
       "  'name': 'BTC_bitcoin'},\n",
       " {'time': '2018-10-30T23:24:00Z',\n",
       "  'marketcap_usd': 109974235695,\n",
       "  'price_btc': 1,\n",
       "  'price_usd': 6338.39,\n",
       "  'volume_usd': 3756190000,\n",
       "  'name': 'BTC_bitcoin'},\n",
       " {'time': '2018-10-30T23:28:16Z',\n",
       "  'marketcap_usd': 110014728707,\n",
       "  'price_btc': 1,\n",
       "  'price_usd': 6340.7238239,\n",
       "  'volume_usd': 3753954593,\n",
       "  'name': 'BTC_bitcoin'},\n",
       " {'time': '2018-10-30T23:29:00Z',\n",
       "  'marketcap_usd': 110014662360,\n",
       "  'price_btc': 1,\n",
       "  'price_usd': 6340.72,\n",
       "  'volume_usd': 3753950000,\n",
       "  'name': 'BTC_bitcoin'},\n",
       " {'time': '2018-10-30T23:34:00Z',\n",
       "  'marketcap_usd': 110033053890,\n",
       "  'price_btc': 1,\n",
       "  'price_usd': 6341.78,\n",
       "  'volume_usd': 3763790000,\n",
       "  'name': 'BTC_bitcoin'},\n",
       " {'time': '2018-10-30T23:34:14Z',\n",
       "  'marketcap_usd': 110046134834,\n",
       "  'price_btc': 1,\n",
       "  'price_usd': 6342.53392319,\n",
       "  'volume_usd': 3764378117,\n",
       "  'name': 'BTC_bitcoin'},\n",
       " {'time': '2018-10-30T23:38:14Z',\n",
       "  'marketcap_usd': 109984073664,\n",
       "  'price_btc': 1,\n",
       "  'price_usd': 6338.92961264,\n",
       "  'volume_usd': 3769675762,\n",
       "  'name': 'BTC_bitcoin'},\n",
       " {'time': '2018-10-30T23:39:00Z',\n",
       "  'marketcap_usd': 109984080384,\n",
       "  'price_btc': 1,\n",
       "  'price_usd': 6338.93,\n",
       "  'volume_usd': 3769680000,\n",
       "  'name': 'BTC_bitcoin'},\n",
       " {'time': '2018-10-30T23:44:00Z',\n",
       "  'marketcap_usd': 110016005442,\n",
       "  'price_btc': 1,\n",
       "  'price_usd': 6340.77,\n",
       "  'volume_usd': 3768660000,\n",
       "  'name': 'BTC_bitcoin'},\n",
       " {'time': '2018-10-30T23:45:13Z',\n",
       "  'marketcap_usd': 109952689190,\n",
       "  'price_btc': 1,\n",
       "  'price_usd': 6337.1207692,\n",
       "  'volume_usd': 3775281296,\n",
       "  'name': 'BTC_bitcoin'},\n",
       " {'time': '2018-10-30T23:49:00Z',\n",
       "  'marketcap_usd': 109963433200,\n",
       "  'price_btc': 1,\n",
       "  'price_usd': 6337.74,\n",
       "  'volume_usd': 3770530000,\n",
       "  'name': 'BTC_bitcoin'},\n",
       " {'time': '2018-10-30T23:51:15Z',\n",
       "  'marketcap_usd': 110030001335,\n",
       "  'price_btc': 1,\n",
       "  'price_usd': 6341.57665294,\n",
       "  'volume_usd': 3776881719,\n",
       "  'name': 'BTC_bitcoin'},\n",
       " {'time': '2018-10-30T23:54:01Z',\n",
       "  'marketcap_usd': 109934110728,\n",
       "  'price_btc': 1,\n",
       "  'price_usd': 6336.05,\n",
       "  'volume_usd': 3774860000,\n",
       "  'name': 'BTC_bitcoin'},\n",
       " {'time': '2018-10-30T23:56:12Z',\n",
       "  'marketcap_usd': 109911397192,\n",
       "  'price_btc': 1,\n",
       "  'price_usd': 6334.7409058,\n",
       "  'volume_usd': 3782933746,\n",
       "  'name': 'BTC_bitcoin'},\n",
       " {'time': '2018-10-30T23:59:01Z',\n",
       "  'marketcap_usd': 109903543418,\n",
       "  'price_btc': 1,\n",
       "  'price_usd': 6334.27,\n",
       "  'volume_usd': 3781100000,\n",
       "  'name': 'BTC_bitcoin'},\n",
       " {'time': '2018-10-31T00:02:12Z',\n",
       "  'marketcap_usd': 109942061065,\n",
       "  'price_btc': 1,\n",
       "  'price_usd': 6336.48995725,\n",
       "  'volume_usd': 3772512897,\n",
       "  'name': 'BTC_bitcoin'},\n",
       " {'time': '2018-10-31T00:04:00Z',\n",
       "  'marketcap_usd': 109950737118,\n",
       "  'price_btc': 1,\n",
       "  'price_usd': 6336.99,\n",
       "  'volume_usd': 3771960000,\n",
       "  'name': 'BTC_bitcoin'},\n",
       " {'time': '2018-10-31T00:06:14Z',\n",
       "  'marketcap_usd': 109919243458,\n",
       "  'price_btc': 1,\n",
       "  'price_usd': 6335.17486878,\n",
       "  'volume_usd': 3766294826,\n",
       "  'name': 'BTC_bitcoin'},\n",
       " {'time': '2018-10-31T00:09:00Z',\n",
       "  'marketcap_usd': 110044604000,\n",
       "  'price_btc': 1,\n",
       "  'price_usd': 6342.4,\n",
       "  'volume_usd': 3774760000,\n",
       "  'name': 'BTC_bitcoin'},\n",
       " {'time': '2018-10-31T00:13:14Z',\n",
       "  'marketcap_usd': 109934052160,\n",
       "  'price_btc': 1,\n",
       "  'price_usd': 6336.02836552,\n",
       "  'volume_usd': 3776078733,\n",
       "  'name': 'BTC_bitcoin'},\n",
       " {'time': '2018-10-31T00:14:00Z',\n",
       "  'marketcap_usd': 109934080518,\n",
       "  'price_btc': 1,\n",
       "  'price_usd': 6336.03,\n",
       "  'volume_usd': 3776080000,\n",
       "  'name': 'BTC_bitcoin'},\n",
       " {'time': '2018-10-31T00:19:02Z',\n",
       "  'marketcap_usd': 109953936277,\n",
       "  'price_btc': 1,\n",
       "  'price_usd': 6337.17,\n",
       "  'volume_usd': 3781600000,\n",
       "  'name': 'BTC_bitcoin'},\n",
       " {'time': '2018-10-31T00:19:14Z',\n",
       "  'marketcap_usd': 110014419281,\n",
       "  'price_btc': 1,\n",
       "  'price_usd': 6340.65592409,\n",
       "  'volume_usd': 3784235902,\n",
       "  'name': 'BTC_bitcoin'},\n",
       " {'time': '2018-10-31T00:24:01Z',\n",
       "  'marketcap_usd': 110031320118,\n",
       "  'price_btc': 1,\n",
       "  'price_usd': 6341.63,\n",
       "  'volume_usd': 3785870000,\n",
       "  'name': 'BTC_bitcoin'},\n",
       " {'time': '2018-10-31T00:24:13Z',\n",
       "  'marketcap_usd': 110022896455,\n",
       "  'price_btc': 1,\n",
       "  'price_usd': 6341.1445041,\n",
       "  'volume_usd': 3792612569,\n",
       "  'name': 'BTC_bitcoin'},\n",
       " {'time': '2018-10-31T00:29:00Z',\n",
       "  'marketcap_usd': 109978747688,\n",
       "  'price_btc': 1,\n",
       "  'price_usd': 6338.6,\n",
       "  'volume_usd': 3792260000,\n",
       "  'name': 'BTC_bitcoin'},\n",
       " {'time': '2018-10-31T00:29:12Z',\n",
       "  'marketcap_usd': 110007493614,\n",
       "  'price_btc': 1,\n",
       "  'price_usd': 6340.25676486,\n",
       "  'volume_usd': 3785682129,\n",
       "  'name': 'BTC_bitcoin'},\n",
       " {'time': '2018-10-31T00:34:00Z',\n",
       "  'marketcap_usd': 110123625507,\n",
       "  'price_btc': 1,\n",
       "  'price_usd': 6346.95,\n",
       "  'volume_usd': 3798820000,\n",
       "  'name': 'BTC_bitcoin'},\n",
       " {'time': '2018-10-31T00:37:12Z',\n",
       "  'marketcap_usd': 110059838866,\n",
       "  'price_btc': 1,\n",
       "  'price_usd': 6343.2689188,\n",
       "  'volume_usd': 3799651274,\n",
       "  'name': 'BTC_bitcoin'},\n",
       " {'time': '2018-10-31T00:39:01Z',\n",
       "  'marketcap_usd': 110003468013,\n",
       "  'price_btc': 1,\n",
       "  'price_usd': 6340.02,\n",
       "  'volume_usd': 3794370000,\n",
       "  'name': 'BTC_bitcoin'},\n",
       " {'time': '2018-10-31T00:40:14Z',\n",
       "  'marketcap_usd': 110007329670,\n",
       "  'price_btc': 1,\n",
       "  'price_usd': 6340.24256553,\n",
       "  'volume_usd': 3795544384,\n",
       "  'name': 'BTC_bitcoin'},\n",
       " {'time': '2018-10-31T00:44:00Z',\n",
       "  'marketcap_usd': 110007632169,\n",
       "  'price_btc': 1,\n",
       "  'price_usd': 6340.26,\n",
       "  'volume_usd': 3799280000,\n",
       "  'name': 'BTC_bitcoin'},\n",
       " {'time': '2018-10-31T00:46:16Z',\n",
       "  'marketcap_usd': 110016850276,\n",
       "  'price_btc': 1,\n",
       "  'price_usd': 6340.79128308,\n",
       "  'volume_usd': 3810053239,\n",
       "  'name': 'BTC_bitcoin'},\n",
       " {'time': '2018-10-31T00:49:00Z',\n",
       "  'marketcap_usd': 110020818663,\n",
       "  'price_btc': 1,\n",
       "  'price_usd': 6341.02,\n",
       "  'volume_usd': 3814880000,\n",
       "  'name': 'BTC_bitcoin'},\n",
       " {'time': '2018-10-31T00:52:15Z',\n",
       "  'marketcap_usd': 109994977753,\n",
       "  'price_btc': 1,\n",
       "  'price_usd': 6339.53066617,\n",
       "  'volume_usd': 3807604313,\n",
       "  'name': 'BTC_bitcoin'},\n",
       " {'time': '2018-10-31T00:54:00Z',\n",
       "  'marketcap_usd': 110035913728,\n",
       "  'price_btc': 1,\n",
       "  'price_usd': 6341.89,\n",
       "  'volume_usd': 3816860000,\n",
       "  'name': 'BTC_bitcoin'},\n",
       " {'time': '2018-10-31T00:56:16Z',\n",
       "  'marketcap_usd': 110055017145,\n",
       "  'price_btc': 1,\n",
       "  'price_usd': 6342.99102024,\n",
       "  'volume_usd': 3818309913,\n",
       "  'name': 'BTC_bitcoin'},\n",
       " {'time': '2018-10-31T00:59:01Z',\n",
       "  'marketcap_usd': 110052728923,\n",
       "  'price_btc': 1,\n",
       "  'price_usd': 6342.85,\n",
       "  'volume_usd': 3814320000,\n",
       "  'name': 'BTC_bitcoin'},\n",
       " {'time': '2018-10-31T01:04:00Z',\n",
       "  'marketcap_usd': 110090553395,\n",
       "  'price_btc': 1,\n",
       "  'price_usd': 6345.03,\n",
       "  'volume_usd': 3805360000,\n",
       "  'name': 'BTC_bitcoin'},\n",
       " {'time': '2018-10-31T01:04:15Z',\n",
       "  'marketcap_usd': 110081212887,\n",
       "  'price_btc': 1,\n",
       "  'price_usd': 6344.49166314,\n",
       "  'volume_usd': 3796889335,\n",
       "  'name': 'BTC_bitcoin'},\n",
       " {'time': '2018-10-31T01:09:00Z',\n",
       "  'marketcap_usd': 110097320158,\n",
       "  'price_btc': 1,\n",
       "  'price_usd': 6345.42,\n",
       "  'volume_usd': 3807460000,\n",
       "  'name': 'BTC_bitcoin'},\n",
       " {'time': '2018-10-31T01:09:14Z',\n",
       "  'marketcap_usd': 110086623445,\n",
       "  'price_btc': 1,\n",
       "  'price_usd': 6344.8034987,\n",
       "  'volume_usd': 3808530092,\n",
       "  'name': 'BTC_bitcoin'},\n",
       " {'time': '2018-10-31T01:14:00Z',\n",
       "  'marketcap_usd': 110162211683,\n",
       "  'price_btc': 1,\n",
       "  'price_usd': 6349.16,\n",
       "  'volume_usd': 3811180000,\n",
       "  'name': 'BTC_bitcoin'},\n",
       " {'time': '2018-10-31T01:14:16Z',\n",
       "  'marketcap_usd': 110148864238,\n",
       "  'price_btc': 1,\n",
       "  'price_usd': 6348.39072476,\n",
       "  'volume_usd': 3813064471,\n",
       "  'name': 'BTC_bitcoin'},\n",
       " {'time': '2018-10-31T01:19:01Z',\n",
       "  'marketcap_usd': 110038486414,\n",
       "  'price_btc': 1,\n",
       "  'price_usd': 6342.02,\n",
       "  'volume_usd': 3815970000,\n",
       "  'name': 'BTC_bitcoin'},\n",
       " {'time': '2018-10-31T01:20:12Z',\n",
       "  'marketcap_usd': 110050855103,\n",
       "  'price_btc': 1,\n",
       "  'price_usd': 6342.73286395,\n",
       "  'volume_usd': 3812890872,\n",
       "  'name': 'BTC_bitcoin'},\n",
       " {'time': '2018-10-31T01:24:01Z',\n",
       "  'marketcap_usd': 110084292262,\n",
       "  'price_btc': 1,\n",
       "  'price_usd': 6344.66,\n",
       "  'volume_usd': 3823180000,\n",
       "  'name': 'BTC_bitcoin'}]"
      ]
     },
     "execution_count": 14,
     "metadata": {},
     "output_type": "execute_result"
    }
   ],
   "source": [
    "points"
   ]
  },
  {
   "cell_type": "code",
   "execution_count": 17,
   "metadata": {},
   "outputs": [],
   "source": [
    "import datetime\n"
   ]
  },
  {
   "cell_type": "code",
   "execution_count": 18,
   "metadata": {},
   "outputs": [],
   "source": [
    "import pandas as pd"
   ]
  },
  {
   "cell_type": "code",
   "execution_count": 15,
   "metadata": {},
   "outputs": [
    {
     "data": {
      "text/plain": [
       "[{'time': '2013-04-28T18:47:21Z',\n",
       "  'marketcap_usd': 1500517590,\n",
       "  'price_btc': 1,\n",
       "  'price_usd': 135.3,\n",
       "  'volume_usd': 0},\n",
       " {'time': '2013-04-28T18:50:02Z',\n",
       "  'marketcap_usd': 1508058994,\n",
       "  'price_btc': 1,\n",
       "  'price_usd': 135.98,\n",
       "  'volume_usd': 0},\n",
       " {'time': '2013-04-28T18:55:01Z',\n",
       "  'marketcap_usd': 1501626620,\n",
       "  'price_btc': 1,\n",
       "  'price_usd': 135.4,\n",
       "  'volume_usd': 0},\n",
       " {'time': '2013-04-28T19:00:02Z',\n",
       "  'marketcap_usd': 1501633390,\n",
       "  'price_btc': 1,\n",
       "  'price_usd': 135.4,\n",
       "  'volume_usd': 0},\n",
       " {'time': '2013-04-28T19:05:01Z',\n",
       "  'marketcap_usd': 1496823552,\n",
       "  'price_btc': 1,\n",
       "  'price_usd': 134.966,\n",
       "  'volume_usd': 0},\n",
       " {'time': '2013-04-28T19:10:01Z',\n",
       "  'marketcap_usd': 1496871288,\n",
       "  'price_btc': 1,\n",
       "  'price_usd': 134.97,\n",
       "  'volume_usd': 0},\n",
       " {'time': '2013-04-28T19:15:01Z',\n",
       "  'marketcap_usd': 1497204000,\n",
       "  'price_btc': 1,\n",
       "  'price_usd': 135,\n",
       "  'volume_usd': 0},\n",
       " {'time': '2013-04-28T19:20:01Z',\n",
       "  'marketcap_usd': 1493876879,\n",
       "  'price_btc': 1,\n",
       "  'price_usd': 134.7,\n",
       "  'volume_usd': 0},\n",
       " {'time': '2013-04-28T19:25:01Z',\n",
       "  'marketcap_usd': 1492771205,\n",
       "  'price_btc': 1,\n",
       "  'price_usd': 134.6,\n",
       "  'volume_usd': 0},\n",
       " {'time': '2013-04-28T19:30:01Z',\n",
       "  'marketcap_usd': 1491665525,\n",
       "  'price_btc': 1,\n",
       "  'price_usd': 134.5,\n",
       "  'volume_usd': 0},\n",
       " {'time': '2013-04-28T19:35:01Z',\n",
       "  'marketcap_usd': 1491668887,\n",
       "  'price_btc': 1,\n",
       "  'price_usd': 134.5,\n",
       "  'volume_usd': 0},\n",
       " {'time': '2013-04-28T19:40:01Z',\n",
       "  'marketcap_usd': 1495953183,\n",
       "  'price_btc': 1,\n",
       "  'price_usd': 134.886,\n",
       "  'volume_usd': 0},\n",
       " {'time': '2013-04-28T19:45:02Z',\n",
       "  'marketcap_usd': 1485151036,\n",
       "  'price_btc': 1,\n",
       "  'price_usd': 133.912,\n",
       "  'volume_usd': 0},\n",
       " {'time': '2013-04-28T19:50:01Z',\n",
       "  'marketcap_usd': 1484574330,\n",
       "  'price_btc': 1,\n",
       "  'price_usd': 133.86,\n",
       "  'volume_usd': 0},\n",
       " {'time': '2013-04-28T19:55:01Z',\n",
       "  'marketcap_usd': 1469491250,\n",
       "  'price_btc': 1,\n",
       "  'price_usd': 132.5,\n",
       "  'volume_usd': 0},\n",
       " {'time': '2013-04-28T20:00:02Z',\n",
       "  'marketcap_usd': 1484241615,\n",
       "  'price_btc': 1,\n",
       "  'price_usd': 133.83,\n",
       "  'volume_usd': 0},\n",
       " {'time': '2013-04-28T20:05:01Z',\n",
       "  'marketcap_usd': 1469491250,\n",
       "  'price_btc': 1,\n",
       "  'price_usd': 132.5,\n",
       "  'volume_usd': 0},\n",
       " {'time': '2013-04-28T20:10:01Z',\n",
       "  'marketcap_usd': 1467276457,\n",
       "  'price_btc': 1,\n",
       "  'price_usd': 132.3,\n",
       "  'volume_usd': 0},\n",
       " {'time': '2013-04-28T20:15:02Z',\n",
       "  'marketcap_usd': 1465058352,\n",
       "  'price_btc': 1,\n",
       "  'price_usd': 132.1,\n",
       "  'volume_usd': 0},\n",
       " {'time': '2013-04-28T20:20:02Z',\n",
       "  'marketcap_usd': 1465061655,\n",
       "  'price_btc': 1,\n",
       "  'price_usd': 132.1,\n",
       "  'volume_usd': 0},\n",
       " {'time': '2013-04-28T20:25:01Z',\n",
       "  'marketcap_usd': 1480591762,\n",
       "  'price_btc': 1,\n",
       "  'price_usd': 133.5,\n",
       "  'volume_usd': 0},\n",
       " {'time': '2013-04-28T20:30:02Z',\n",
       "  'marketcap_usd': 1467283072,\n",
       "  'price_btc': 1,\n",
       "  'price_usd': 132.3,\n",
       "  'volume_usd': 0},\n",
       " {'time': '2013-04-28T20:35:01Z',\n",
       "  'marketcap_usd': 1467286380,\n",
       "  'price_btc': 1,\n",
       "  'price_usd': 132.3,\n",
       "  'volume_usd': 0},\n",
       " {'time': '2013-04-28T20:40:01Z',\n",
       "  'marketcap_usd': 1477157014,\n",
       "  'price_btc': 1,\n",
       "  'price_usd': 133.19,\n",
       "  'volume_usd': 0},\n",
       " {'time': '2013-04-28T20:45:01Z',\n",
       "  'marketcap_usd': 1480595100,\n",
       "  'price_btc': 1,\n",
       "  'price_usd': 133.5,\n",
       "  'volume_usd': 0},\n",
       " {'time': '2013-04-28T20:50:01Z',\n",
       "  'marketcap_usd': 1484487900,\n",
       "  'price_btc': 1,\n",
       "  'price_usd': 133.851,\n",
       "  'volume_usd': 0},\n",
       " {'time': '2013-04-28T20:55:01Z',\n",
       "  'marketcap_usd': 1484476810,\n",
       "  'price_btc': 1,\n",
       "  'price_usd': 133.85,\n",
       "  'volume_usd': 0},\n",
       " {'time': '2013-04-28T21:00:01Z',\n",
       "  'marketcap_usd': 1486147100,\n",
       "  'price_btc': 1,\n",
       "  'price_usd': 134,\n",
       "  'volume_usd': 0},\n",
       " {'time': '2013-04-28T21:05:01Z',\n",
       "  'marketcap_usd': 1486150450,\n",
       "  'price_btc': 1,\n",
       "  'price_usd': 134,\n",
       "  'volume_usd': 0},\n",
       " {'time': '2013-04-28T21:10:01Z',\n",
       "  'marketcap_usd': 1485044730,\n",
       "  'price_btc': 1,\n",
       "  'price_usd': 133.9,\n",
       "  'volume_usd': 0},\n",
       " {'time': '2013-04-28T21:15:01Z',\n",
       "  'marketcap_usd': 1488939900,\n",
       "  'price_btc': 1,\n",
       "  'price_usd': 134.25,\n",
       "  'volume_usd': 0},\n",
       " {'time': '2013-04-28T21:20:01Z',\n",
       "  'marketcap_usd': 1484059948,\n",
       "  'price_btc': 1,\n",
       "  'price_usd': 133.81,\n",
       "  'volume_usd': 0},\n",
       " {'time': '2013-04-28T21:25:01Z',\n",
       "  'marketcap_usd': 1489165072,\n",
       "  'price_btc': 1,\n",
       "  'price_usd': 134.27,\n",
       "  'volume_usd': 0},\n",
       " {'time': '2013-04-28T21:30:01Z',\n",
       "  'marketcap_usd': 1489165072,\n",
       "  'price_btc': 1,\n",
       "  'price_usd': 134.27,\n",
       "  'volume_usd': 0},\n",
       " {'time': '2013-04-28T21:35:01Z',\n",
       "  'marketcap_usd': 1489054164,\n",
       "  'price_btc': 1,\n",
       "  'price_usd': 134.26,\n",
       "  'volume_usd': 0},\n",
       " {'time': '2013-04-28T21:40:01Z',\n",
       "  'marketcap_usd': 1480794837,\n",
       "  'price_btc': 1,\n",
       "  'price_usd': 133.515,\n",
       "  'volume_usd': 0},\n",
       " {'time': '2013-04-28T21:45:01Z',\n",
       "  'marketcap_usd': 1481744240,\n",
       "  'price_btc': 1,\n",
       "  'price_usd': 133.6,\n",
       "  'volume_usd': 0},\n",
       " {'time': '2013-04-28T21:50:01Z',\n",
       "  'marketcap_usd': 1475355881,\n",
       "  'price_btc': 1,\n",
       "  'price_usd': 133.024,\n",
       "  'volume_usd': 0},\n",
       " {'time': '2013-04-28T21:55:01Z',\n",
       "  'marketcap_usd': 1475314843,\n",
       "  'price_btc': 1,\n",
       "  'price_usd': 133.02,\n",
       "  'volume_usd': 0},\n",
       " {'time': '2013-04-28T22:00:02Z',\n",
       "  'marketcap_usd': 1481643350,\n",
       "  'price_btc': 1,\n",
       "  'price_usd': 133.59,\n",
       "  'volume_usd': 0},\n",
       " {'time': '2013-04-28T22:05:01Z',\n",
       "  'marketcap_usd': 1486194000,\n",
       "  'price_btc': 1,\n",
       "  'price_usd': 134,\n",
       "  'volume_usd': 0},\n",
       " {'time': '2013-04-28T22:10:01Z',\n",
       "  'marketcap_usd': 1470448094,\n",
       "  'price_btc': 1,\n",
       "  'price_usd': 132.58,\n",
       "  'volume_usd': 0},\n",
       " {'time': '2013-04-28T22:15:02Z',\n",
       "  'marketcap_usd': 1475112975,\n",
       "  'price_btc': 1,\n",
       "  'price_usd': 133,\n",
       "  'volume_usd': 0},\n",
       " {'time': '2013-04-28T22:20:01Z',\n",
       "  'marketcap_usd': 1474591694,\n",
       "  'price_btc': 1,\n",
       "  'price_usd': 132.953,\n",
       "  'volume_usd': 0},\n",
       " {'time': '2013-04-28T22:25:02Z',\n",
       "  'marketcap_usd': 1468946337,\n",
       "  'price_btc': 1,\n",
       "  'price_usd': 132.444,\n",
       "  'volume_usd': 0},\n",
       " {'time': '2013-04-28T22:30:01Z',\n",
       "  'marketcap_usd': 1474003867,\n",
       "  'price_btc': 1,\n",
       "  'price_usd': 132.9,\n",
       "  'volume_usd': 0},\n",
       " {'time': '2013-04-28T22:35:02Z',\n",
       "  'marketcap_usd': 1476344084,\n",
       "  'price_btc': 1,\n",
       "  'price_usd': 133.111,\n",
       "  'volume_usd': 0},\n",
       " {'time': '2013-04-28T22:40:01Z',\n",
       "  'marketcap_usd': 1479619286,\n",
       "  'price_btc': 1,\n",
       "  'price_usd': 133.406,\n",
       "  'volume_usd': 0},\n",
       " {'time': '2013-04-28T22:45:01Z',\n",
       "  'marketcap_usd': 1473947288,\n",
       "  'price_btc': 1,\n",
       "  'price_usd': 132.894,\n",
       "  'volume_usd': 0},\n",
       " {'time': '2013-04-28T22:50:01Z',\n",
       "  'marketcap_usd': 1485881365,\n",
       "  'price_btc': 1,\n",
       "  'price_usd': 133.97,\n",
       "  'volume_usd': 0},\n",
       " {'time': '2013-04-28T22:55:02Z',\n",
       "  'marketcap_usd': 1486214100,\n",
       "  'price_btc': 1,\n",
       "  'price_usd': 134,\n",
       "  'volume_usd': 0},\n",
       " {'time': '2013-04-28T23:00:02Z',\n",
       "  'marketcap_usd': 1480668525,\n",
       "  'price_btc': 1,\n",
       "  'price_usd': 133.5,\n",
       "  'volume_usd': 0},\n",
       " {'time': '2013-04-28T23:05:02Z',\n",
       "  'marketcap_usd': 1472161612,\n",
       "  'price_btc': 1,\n",
       "  'price_usd': 132.733,\n",
       "  'volume_usd': 0},\n",
       " {'time': '2013-04-28T23:10:01Z',\n",
       "  'marketcap_usd': 1475122950,\n",
       "  'price_btc': 1,\n",
       "  'price_usd': 133,\n",
       "  'volume_usd': 0},\n",
       " {'time': '2013-04-28T23:15:01Z',\n",
       "  'marketcap_usd': 1484546028,\n",
       "  'price_btc': 1,\n",
       "  'price_usd': 133.849,\n",
       "  'volume_usd': 0},\n",
       " {'time': '2013-04-28T23:20:01Z',\n",
       "  'marketcap_usd': 1485891413,\n",
       "  'price_btc': 1,\n",
       "  'price_usd': 133.97,\n",
       "  'volume_usd': 0},\n",
       " {'time': '2013-04-28T23:25:01Z',\n",
       "  'marketcap_usd': 1488220570,\n",
       "  'price_btc': 1,\n",
       "  'price_usd': 134.18,\n",
       "  'volume_usd': 0},\n",
       " {'time': '2013-04-28T23:30:01Z',\n",
       "  'marketcap_usd': 1485235983,\n",
       "  'price_btc': 1,\n",
       "  'price_usd': 133.91,\n",
       "  'volume_usd': 0},\n",
       " {'time': '2013-04-28T23:35:01Z',\n",
       "  'marketcap_usd': 1489195577,\n",
       "  'price_btc': 1,\n",
       "  'price_usd': 134.267,\n",
       "  'volume_usd': 0},\n",
       " {'time': '2013-04-28T23:40:01Z',\n",
       "  'marketcap_usd': 1491783212,\n",
       "  'price_btc': 1,\n",
       "  'price_usd': 134.5,\n",
       "  'volume_usd': 0},\n",
       " {'time': '2013-04-28T23:45:01Z',\n",
       "  'marketcap_usd': 1491783212,\n",
       "  'price_btc': 1,\n",
       "  'price_usd': 134.5,\n",
       "  'volume_usd': 0},\n",
       " {'time': '2013-04-28T23:50:01Z',\n",
       "  'marketcap_usd': 1489564947,\n",
       "  'price_btc': 1,\n",
       "  'price_usd': 134.3,\n",
       "  'volume_usd': 0},\n",
       " {'time': '2013-04-28T23:55:01Z',\n",
       "  'marketcap_usd': 1488566728,\n",
       "  'price_btc': 1,\n",
       "  'price_usd': 134.21,\n",
       "  'volume_usd': 0},\n",
       " {'time': '2013-04-29T00:00:01Z',\n",
       "  'marketcap_usd': 1491162098,\n",
       "  'price_btc': 1,\n",
       "  'price_usd': 134.444,\n",
       "  'volume_usd': 0},\n",
       " {'time': '2013-04-29T00:05:01Z',\n",
       "  'marketcap_usd': 1491564748,\n",
       "  'price_btc': 1,\n",
       "  'price_usd': 134.48,\n",
       "  'volume_usd': 0},\n",
       " {'time': '2013-04-29T00:10:02Z',\n",
       "  'marketcap_usd': 1497213619,\n",
       "  'price_btc': 1,\n",
       "  'price_usd': 134.989,\n",
       "  'volume_usd': 0},\n",
       " {'time': '2013-04-29T00:15:01Z',\n",
       "  'marketcap_usd': 1497102706,\n",
       "  'price_btc': 1,\n",
       "  'price_usd': 134.979,\n",
       "  'volume_usd': 0},\n",
       " {'time': '2013-04-29T00:20:01Z',\n",
       "  'marketcap_usd': 1486687905,\n",
       "  'price_btc': 1,\n",
       "  'price_usd': 134.04,\n",
       "  'volume_usd': 0},\n",
       " {'time': '2013-04-29T00:25:02Z',\n",
       "  'marketcap_usd': 1496895344,\n",
       "  'price_btc': 1,\n",
       "  'price_usd': 134.96,\n",
       "  'volume_usd': 0},\n",
       " {'time': '2013-04-29T00:30:01Z',\n",
       "  'marketcap_usd': 1492905805,\n",
       "  'price_btc': 1,\n",
       "  'price_usd': 134.6,\n",
       "  'volume_usd': 0},\n",
       " {'time': '2013-04-29T00:35:02Z',\n",
       "  'marketcap_usd': 1496898718,\n",
       "  'price_btc': 1,\n",
       "  'price_usd': 134.96,\n",
       "  'volume_usd': 0},\n",
       " {'time': '2013-04-29T00:40:02Z',\n",
       "  'marketcap_usd': 1496902092,\n",
       "  'price_btc': 1,\n",
       "  'price_usd': 134.96,\n",
       "  'volume_usd': 0},\n",
       " {'time': '2013-04-29T00:45:01Z',\n",
       "  'marketcap_usd': 1496239977,\n",
       "  'price_btc': 1,\n",
       "  'price_usd': 134.9,\n",
       "  'volume_usd': 0},\n",
       " {'time': '2013-04-29T00:50:02Z',\n",
       "  'marketcap_usd': 1496239977,\n",
       "  'price_btc': 1,\n",
       "  'price_usd': 134.9,\n",
       "  'volume_usd': 0},\n",
       " {'time': '2013-04-29T00:55:02Z',\n",
       "  'marketcap_usd': 1497338033,\n",
       "  'price_btc': 1,\n",
       "  'price_usd': 134.999,\n",
       "  'volume_usd': 0},\n",
       " {'time': '2013-04-29T01:00:03Z',\n",
       "  'marketcap_usd': 1498184362,\n",
       "  'price_btc': 1,\n",
       "  'price_usd': 135.075,\n",
       "  'volume_usd': 0},\n",
       " {'time': '2013-04-29T01:05:02Z',\n",
       "  'marketcap_usd': 1499238054,\n",
       "  'price_btc': 1,\n",
       "  'price_usd': 135.17,\n",
       "  'volume_usd': 0},\n",
       " {'time': '2013-04-29T01:10:01Z',\n",
       "  'marketcap_usd': 1499570799,\n",
       "  'price_btc': 1,\n",
       "  'price_usd': 135.2,\n",
       "  'volume_usd': 0},\n",
       " {'time': '2013-04-29T01:15:01Z',\n",
       "  'marketcap_usd': 1503674655,\n",
       "  'price_btc': 1,\n",
       "  'price_usd': 135.57,\n",
       "  'volume_usd': 0},\n",
       " {'time': '2013-04-29T01:20:01Z',\n",
       "  'marketcap_usd': 1499910306,\n",
       "  'price_btc': 1,\n",
       "  'price_usd': 135.23,\n",
       "  'volume_usd': 0},\n",
       " {'time': '2013-04-29T01:25:02Z',\n",
       "  'marketcap_usd': 1502905025,\n",
       "  'price_btc': 1,\n",
       "  'price_usd': 135.5,\n",
       "  'volume_usd': 0},\n",
       " {'time': '2013-04-29T01:30:01Z',\n",
       "  'marketcap_usd': 1492867172,\n",
       "  'price_btc': 1,\n",
       "  'price_usd': 134.595,\n",
       "  'volume_usd': 0},\n",
       " {'time': '2013-04-29T01:35:01Z',\n",
       "  'marketcap_usd': 1496253467,\n",
       "  'price_btc': 1,\n",
       "  'price_usd': 134.9,\n",
       "  'volume_usd': 0},\n",
       " {'time': '2013-04-29T01:40:01Z',\n",
       "  'marketcap_usd': 1497366000,\n",
       "  'price_btc': 1,\n",
       "  'price_usd': 135,\n",
       "  'volume_usd': 0},\n",
       " {'time': '2013-04-29T01:45:01Z',\n",
       "  'marketcap_usd': 1506017448,\n",
       "  'price_btc': 1,\n",
       "  'price_usd': 135.78,\n",
       "  'volume_usd': 0},\n",
       " {'time': '2013-04-29T01:50:01Z',\n",
       "  'marketcap_usd': 1495151050,\n",
       "  'price_btc': 1,\n",
       "  'price_usd': 134.8,\n",
       "  'volume_usd': 0},\n",
       " {'time': '2013-04-29T01:55:01Z',\n",
       "  'marketcap_usd': 1505577177,\n",
       "  'price_btc': 1,\n",
       "  'price_usd': 135.74,\n",
       "  'volume_usd': 0},\n",
       " {'time': '2013-04-29T02:00:02Z',\n",
       "  'marketcap_usd': 1505998659,\n",
       "  'price_btc': 1,\n",
       "  'price_usd': 135.778,\n",
       "  'volume_usd': 0},\n",
       " {'time': '2013-04-29T02:05:02Z',\n",
       "  'marketcap_usd': 1505691487,\n",
       "  'price_btc': 1,\n",
       "  'price_usd': 135.75,\n",
       "  'volume_usd': 0},\n",
       " {'time': '2013-04-29T02:10:01Z',\n",
       "  'marketcap_usd': 1496329161,\n",
       "  'price_btc': 1,\n",
       "  'price_usd': 134.905,\n",
       "  'volume_usd': 0},\n",
       " {'time': '2013-04-29T02:15:02Z',\n",
       "  'marketcap_usd': 1496831662,\n",
       "  'price_btc': 1,\n",
       "  'price_usd': 134.95,\n",
       "  'volume_usd': 0},\n",
       " {'time': '2013-04-29T02:20:01Z',\n",
       "  'marketcap_usd': 1496335906,\n",
       "  'price_btc': 1,\n",
       "  'price_usd': 134.905,\n",
       "  'volume_usd': 0},\n",
       " {'time': '2013-04-29T02:25:01Z',\n",
       "  'marketcap_usd': 1506263045,\n",
       "  'price_btc': 1,\n",
       "  'price_usd': 135.8,\n",
       "  'volume_usd': 0},\n",
       " {'time': '2013-04-29T02:30:01Z',\n",
       "  'marketcap_usd': 1506152127,\n",
       "  'price_btc': 1,\n",
       "  'price_usd': 135.79,\n",
       "  'volume_usd': 0},\n",
       " {'time': '2013-04-29T02:35:02Z',\n",
       "  'marketcap_usd': 1506155522,\n",
       "  'price_btc': 1,\n",
       "  'price_usd': 135.79,\n",
       "  'volume_usd': 0},\n",
       " {'time': '2013-04-29T02:40:01Z',\n",
       "  'marketcap_usd': 1504713588,\n",
       "  'price_btc': 1,\n",
       "  'price_usd': 135.66,\n",
       "  'volume_usd': 0},\n",
       " {'time': '2013-04-29T02:45:01Z',\n",
       "  'marketcap_usd': 1506244256,\n",
       "  'price_btc': 1,\n",
       "  'price_usd': 135.798,\n",
       "  'volume_usd': 0},\n",
       " {'time': '2013-04-29T02:50:01Z',\n",
       "  'marketcap_usd': 1506244256,\n",
       "  'price_btc': 1,\n",
       "  'price_usd': 135.798,\n",
       "  'volume_usd': 0},\n",
       " {'time': '2013-04-29T02:55:01Z',\n",
       "  'marketcap_usd': 1502942287,\n",
       "  'price_btc': 1,\n",
       "  'price_usd': 135.5,\n",
       "  'volume_usd': 0},\n",
       " {'time': '2013-04-29T03:00:02Z',\n",
       "  'marketcap_usd': 1502949062,\n",
       "  'price_btc': 1,\n",
       "  'price_usd': 135.5,\n",
       "  'volume_usd': 0}]"
      ]
     },
     "execution_count": 15,
     "metadata": {},
     "output_type": "execute_result"
    }
   ],
   "source": [
    "d = '2018-10-29'\n",
    "\n",
    "\n",
    "for x in output_dict:\n",
    "    results = client.query(('SELECT * from \"%s\" WHERE time >= %s LIMIT 100') %  (x['name'], d ))\n",
    "    points = list(results.get_points())\n",
    "\n",
    "    #print(date)\n",
    "points"
   ]
  },
  {
   "cell_type": "code",
   "execution_count": 23,
   "metadata": {},
   "outputs": [
    {
     "name": "stdout",
     "output_type": "stream",
     "text": [
      "2018-10-29 00:00:00\n",
      "2018-10-29\n",
      "{'name': 'BTC_bitcoin'}\n",
      "2018-10-29\n"
     ]
    },
    {
     "ename": "TypeError",
     "evalue": "'DatetimeIndex' object is not callable",
     "output_type": "error",
     "traceback": [
      "\u001b[1;31m---------------------------------------------------------------------------\u001b[0m",
      "\u001b[1;31mTypeError\u001b[0m                                 Traceback (most recent call last)",
      "\u001b[1;32m<ipython-input-23-2db7e8b79499>\u001b[0m in \u001b[0;36m<module>\u001b[1;34m\u001b[0m\n\u001b[0;32m     12\u001b[0m         \u001b[0mprint\u001b[0m\u001b[1;33m(\u001b[0m\u001b[0md\u001b[0m\u001b[1;33m)\u001b[0m\u001b[1;33m\u001b[0m\u001b[0m\n\u001b[0;32m     13\u001b[0m         \u001b[0mresults\u001b[0m \u001b[1;33m=\u001b[0m \u001b[0mclient\u001b[0m\u001b[1;33m.\u001b[0m\u001b[0mquery\u001b[0m\u001b[1;33m(\u001b[0m\u001b[1;33m(\u001b[0m\u001b[1;34m'SELECT * from \"%s\" WHERE time >= %s'\u001b[0m\u001b[1;33m)\u001b[0m \u001b[1;33m%\u001b[0m  \u001b[1;33m(\u001b[0m\u001b[0mx\u001b[0m\u001b[1;33m[\u001b[0m\u001b[1;34m'name'\u001b[0m\u001b[1;33m]\u001b[0m\u001b[1;33m,\u001b[0m \u001b[0ml\u001b[0m\u001b[1;33m.\u001b[0m\u001b[0mstrftime\u001b[0m\u001b[1;33m(\u001b[0m\u001b[1;34m'%Y-%m-%d'\u001b[0m\u001b[1;33m)\u001b[0m \u001b[1;33m)\u001b[0m\u001b[1;33m)\u001b[0m\u001b[1;33m\u001b[0m\u001b[0m\n\u001b[1;32m---> 14\u001b[1;33m         \u001b[0mpoints\u001b[0m \u001b[1;33m=\u001b[0m \u001b[0mlist\u001b[0m\u001b[1;33m(\u001b[0m\u001b[0mresults\u001b[0m\u001b[1;33m.\u001b[0m\u001b[0mget_points\u001b[0m\u001b[1;33m(\u001b[0m\u001b[1;33m)\u001b[0m\u001b[1;33m)\u001b[0m\u001b[1;33m\u001b[0m\u001b[0m\n\u001b[0m\u001b[0;32m     15\u001b[0m         \u001b[1;32mfor\u001b[0m \u001b[0mi\u001b[0m\u001b[1;33m,\u001b[0m \u001b[0mp\u001b[0m \u001b[1;32min\u001b[0m \u001b[0menumerate\u001b[0m\u001b[1;33m(\u001b[0m\u001b[0mpoints\u001b[0m\u001b[1;33m)\u001b[0m\u001b[1;33m:\u001b[0m\u001b[1;33m\u001b[0m\u001b[0m\n\u001b[0;32m     16\u001b[0m             \u001b[1;31m#print('index %d, value %s' % (i, p))\u001b[0m\u001b[1;33m\u001b[0m\u001b[1;33m\u001b[0m\u001b[0m\n",
      "\u001b[1;31mTypeError\u001b[0m: 'DatetimeIndex' object is not callable"
     ]
    }
   ],
   "source": [
    "date = '2016-10-28'\n",
    "\n",
    "list=pd.date_range(d, datetime.datetime.today())\n",
    "\n",
    "for l in list:\n",
    "    print(l)\n",
    "    d=l.strftime('%Y-%m-%d')\n",
    "    print(d)\n",
    "    \n",
    "    for x in output_dict:\n",
    "        print(x)\n",
    "        print(d)\n",
    "        results = client.query(('SELECT * from \"%s\" WHERE time >= %s') %  (x['name'], l.strftime('%Y-%m-%d') ))\n",
    "        points = list(results.get_points())\n",
    "        for i, p in enumerate(points):\n",
    "            #print('index %d, value %s' % (i, p)) \n",
    "            points[i]['name'] = x['name']\n",
    "            print(points[i])\n",
    "            #producer.send_messages('test', json.dumps(points[i], default=json_util.default).encode('utf-8'))\n"
   ]
  },
  {
   "cell_type": "code",
   "execution_count": 67,
   "metadata": {},
   "outputs": [
    {
     "name": "stdout",
     "output_type": "stream",
     "text": [
      "Length : 10000\n"
     ]
    }
   ],
   "source": [
    "print (\"Length : %d\" % len (points))"
   ]
  },
  {
   "cell_type": "code",
   "execution_count": 68,
   "metadata": {},
   "outputs": [
    {
     "data": {
      "text/plain": [
       "{'time': '2013-04-28T18:47:21Z',\n",
       " 'marketcap_usd': 1500517590,\n",
       " 'price_btc': 1,\n",
       " 'price_usd': 135.3,\n",
       " 'volume_usd': 0,\n",
       " 'name': 'BTC_bitcoin'}"
      ]
     },
     "execution_count": 68,
     "metadata": {},
     "output_type": "execute_result"
    }
   ],
   "source": [
    "points[0]"
   ]
  },
  {
   "cell_type": "code",
   "execution_count": 15,
   "metadata": {},
   "outputs": [
    {
     "name": "stdout",
     "output_type": "stream",
     "text": [
      "{\"statement_id\": 0, \"series\": [{\"name\": \"ALC_allcoin\", \"columns\": [\"time\", \"price_btc\", \"price_usd\"], \"values\": [[\"2018-10-28T19:25:54Z\", 2.28e-06, 0.01474555]]}]}\n"
     ]
    }
   ],
   "source": [
    "out = json.dumps(results.raw)\n",
    "print(out)"
   ]
  },
  {
   "cell_type": "code",
   "execution_count": 28,
   "metadata": {},
   "outputs": [
    {
     "name": "stdout",
     "output_type": "stream",
     "text": [
      "[{'name': '611_USD'}]\n"
     ]
    }
   ],
   "source": [
    "print(output_dict)"
   ]
  },
  {
   "cell_type": "markdown",
   "metadata": {},
   "source": [
    "## Working with JSON output ##"
   ]
  },
  {
   "cell_type": "code",
   "execution_count": 21,
   "metadata": {
    "scrolled": true
   },
   "outputs": [
    {
     "name": "stdout",
     "output_type": "stream",
     "text": [
      "[{'time': '2018-10-28T19:25:38Z', 'marketcap': 58289, 'price': 0.1267165628, 'volume': 23}]\n",
      "611_USD message sent\n"
     ]
    }
   ],
   "source": [
    "for x in output_dict:\n",
    "    results = client.query(('SELECT * from \"%s\" ORDER by time DESC LIMIT 1') %  x['name'])\n",
    "    \n",
    "    points = list(results.get_points())\n",
    "    print(points)\n",
    "    data_file = x['name']+'.json'\n",
    "    with open(data_file, 'w') as outfile:\n",
    "        #json.dump(points, outfile)\n",
    "        producer.send_messages('test', json.dumps(points, default=json_util.default).encode('utf-8'))\n",
    "        print(x['name']+' message sent')\n",
    "# 611_USD.json\n",
    "#results.raw\n",
    "#print(points)"
   ]
  },
  {
   "cell_type": "code",
   "execution_count": 37,
   "metadata": {},
   "outputs": [
    {
     "data": {
      "text/plain": [
       "{'statement_id': 0,\n",
       " 'series': [{'name': '611_USD',\n",
       "   'columns': ['time', 'marketcap', 'price', 'volume'],\n",
       "   'values': [['2018-10-22T19:35:33Z', 65116, 0.1417095519, 122]]}]}"
      ]
     },
     "execution_count": 37,
     "metadata": {},
     "output_type": "execute_result"
    }
   ],
   "source": [
    "results.raw    "
   ]
  },
  {
   "cell_type": "code",
   "execution_count": 188,
   "metadata": {},
   "outputs": [],
   "source": [
    "# save relusts.raw in a json file\n",
    "data_file = output_dict['name']\n",
    "with open('data.json', 'w') as outfile:\n",
    "    json.dump(results.raw, outfile)"
   ]
  },
  {
   "cell_type": "code",
   "execution_count": 38,
   "metadata": {},
   "outputs": [],
   "source": [
    "# save columns and values in a json file\n",
    "with open('data.json', 'w') as outfile:\n",
    "    json.dump(points, outfile)"
   ]
  },
  {
   "cell_type": "code",
   "execution_count": 131,
   "metadata": {},
   "outputs": [],
   "source": [
    "def read_data(measurements):\n",
    "    client = InfluxDBClient(host='influxdb-influxdb.default.svc.cluster.local', port=8086)\n",
    "    client.switch_database('prices')\n",
    "    \n",
    "    for x in measurements:\n",
    "        results = client.query(('SELECT * from \"%s\" ORDER by time DESC LIMIT 1') %  x['name'])\n",
    "        points = list(results.get_points())\n",
    "        #params = points[0]\n",
    "        #params['name'] = x['name']\n",
    "        \n",
    "        \n",
    "        points[0]['name'] = x['name']\n",
    "        #producer.send_messages('test', json.dumps(points[0], default=json_util.default).encode('utf-8'))\n",
    "\n",
    "        \n",
    "\n",
    "        #data_file = x['name']+'.json'\n",
    "        #with open(data_file, 'w') as outfile:\n",
    "            #json.dump(points, outfile)\n",
    "    return points[0]\n",
    "    #return params"
   ]
  },
  {
   "cell_type": "code",
   "execution_count": 132,
   "metadata": {},
   "outputs": [
    {
     "data": {
      "text/plain": [
       "{'time': '2018-10-28T20:58:37Z',\n",
       " 'marketcap': 57960,\n",
       " 'price': 0.1259996609,\n",
       " 'volume': 23,\n",
       " 'name': '611_USD'}"
      ]
     },
     "execution_count": 132,
     "metadata": {},
     "output_type": "execute_result"
    }
   ],
   "source": [
    "read_data(output_dict)\n"
   ]
  },
  {
   "cell_type": "code",
   "execution_count": 118,
   "metadata": {},
   "outputs": [
    {
     "data": {
      "text/plain": [
       "NoneType"
      ]
     },
     "execution_count": 118,
     "metadata": {},
     "output_type": "execute_result"
    }
   ],
   "source": [
    "type(x)"
   ]
  },
  {
   "cell_type": "code",
   "execution_count": 106,
   "metadata": {},
   "outputs": [
    {
     "name": "stdout",
     "output_type": "stream",
     "text": [
      "<built-in method keys of dict object at 0x0128BDE0>\n"
     ]
    }
   ],
   "source": [
    "print(x.keys)"
   ]
  },
  {
   "cell_type": "code",
   "execution_count": 61,
   "metadata": {},
   "outputs": [
    {
     "data": {
      "text/plain": [
       "'[{\"time\": \"2018-10-28T20:07:33Z\", \"marketcap\": 57928, \"price\": 0.1259316913, \"volume\": 23, \"name\": \"611_USD\"}]'"
      ]
     },
     "execution_count": 61,
     "metadata": {},
     "output_type": "execute_result"
    }
   ],
   "source": [
    "json.dumps(x)"
   ]
  },
  {
   "cell_type": "markdown",
   "metadata": {},
   "source": [
    "## Kafka ##"
   ]
  },
  {
   "cell_type": "code",
   "execution_count": 25,
   "metadata": {},
   "outputs": [],
   "source": [
    "from kafka import SimpleProducer, KafkaClient\n",
    "\n",
    "\n",
    "kafka = KafkaClient('blockchain-kafka-kafka.default.svc.cluster.local:9092')\n",
    "producer = SimpleProducer(kafka)\n",
    "#producer.send_messages('test', b'async message')"
   ]
  },
  {
   "cell_type": "code",
   "execution_count": 26,
   "metadata": {},
   "outputs": [],
   "source": [
    "import yaml\n",
    "import json\n",
    "from bson import json_util\n"
   ]
  },
  {
   "cell_type": "code",
   "execution_count": 27,
   "metadata": {},
   "outputs": [
    {
     "data": {
      "text/plain": [
       "'1.4.3'"
      ]
     },
     "execution_count": 27,
     "metadata": {},
     "output_type": "execute_result"
    }
   ],
   "source": [
    "import kafka as k\n",
    "k.__version__"
   ]
  },
  {
   "cell_type": "code",
   "execution_count": 213,
   "metadata": {},
   "outputs": [],
   "source": [
    "with open('611_USD.json') as f:\n",
    "    data = json.load(f)"
   ]
  },
  {
   "cell_type": "code",
   "execution_count": 214,
   "metadata": {},
   "outputs": [
    {
     "name": "stdout",
     "output_type": "stream",
     "text": [
      "[{'time': '2018-10-28T19:45:28Z', 'marketcap': 57956, 'price': 0.1259925901, 'volume': 23}]\n"
     ]
    }
   ],
   "source": [
    "print(data)"
   ]
  },
  {
   "cell_type": "code",
   "execution_count": 22,
   "metadata": {
    "scrolled": true
   },
   "outputs": [],
   "source": [
    "with open('611_USD.json') as f:\n",
    "    for line in f:\n",
    "        d = yaml.safe_load(line)\n",
    "        jd = json.dumps(d)\n",
    "       \n",
    "        producer.send_messages('test', json.dumps(jd, default=json_util.default).encode('utf-8'))\n"
   ]
  },
  {
   "cell_type": "code",
   "execution_count": 8,
   "metadata": {},
   "outputs": [],
   "source": [
    "# send 10 messages to kafka\n",
    "for i in range(10):\n",
    "    data = { 'tag ': 'blah',\n",
    "        'name' : 'sam',\n",
    "        'index' : i,\n",
    "        'score': \n",
    "            {'row1': 100,\n",
    "             'row2': 200\n",
    "        }\n",
    "    }   \n",
    "    producer.send_messages('test', json.dumps(data, indent=4, default=json_util.default).encode('utf-8'))"
   ]
  },
  {
   "cell_type": "code",
   "execution_count": null,
   "metadata": {},
   "outputs": [],
   "source": [
    "for x in output_dict:\n",
    "    results = client.query(('SELECT * from \"%s\" ORDER by time DESC LIMIT 1') %  x['name'])\n",
    "    \n",
    "    points = list(results.get_points())\n",
    "    print(points)\n",
    "    data_file = x['name']+'.json'\n",
    "    with open(data_file, 'w') as outfile:\n",
    "        #json.dump(points, outfile)\n",
    "        #producer.send_messages('test', json.dumps(points, default=json_util.default).encode('utf-8'))\n",
    "        print(x['name']+' message sent')"
   ]
  },
  {
   "cell_type": "markdown",
   "metadata": {},
   "source": [
    "## Pandas "
   ]
  },
  {
   "cell_type": "code",
   "execution_count": 20,
   "metadata": {},
   "outputs": [],
   "source": [
    "import pandas as pd\n",
    "import datetime \n"
   ]
  },
  {
   "cell_type": "code",
   "execution_count": 173,
   "metadata": {},
   "outputs": [],
   "source": [
    "startdate = '2009/11/23'\n",
    "enddate = '2009/12/23'"
   ]
  },
  {
   "cell_type": "code",
   "execution_count": 199,
   "metadata": {},
   "outputs": [],
   "source": [
    "#pd.to_datetime(['2005/11/23', pd.Timestamp.now])\n",
    "list=pd.DatetimeIndex(['2005-11-23', '2010-12-31'], dtype='datetime64[ns]', freq=None)"
   ]
  },
  {
   "cell_type": "code",
   "execution_count": 183,
   "metadata": {},
   "outputs": [
    {
     "data": {
      "text/plain": [
       "datetime.datetime(2018, 10, 31, 22, 26, 34, 420232)"
      ]
     },
     "execution_count": 183,
     "metadata": {},
     "output_type": "execute_result"
    }
   ],
   "source": [
    "datetime.datetime.now()"
   ]
  },
  {
   "cell_type": "code",
   "execution_count": 46,
   "metadata": {},
   "outputs": [],
   "source": [
    "list=pd.date_range('2018/10/23', datetime.datetime.today())"
   ]
  },
  {
   "cell_type": "code",
   "execution_count": 47,
   "metadata": {},
   "outputs": [
    {
     "data": {
      "text/plain": [
       "DatetimeIndex(['2018-10-23', '2018-10-24', '2018-10-25', '2018-10-26',\n",
       "               '2018-10-27', '2018-10-28', '2018-10-29', '2018-10-30',\n",
       "               '2018-10-31'],\n",
       "              dtype='datetime64[ns]', freq='D')"
      ]
     },
     "execution_count": 47,
     "metadata": {},
     "output_type": "execute_result"
    }
   ],
   "source": [
    "list"
   ]
  },
  {
   "cell_type": "code",
   "execution_count": 48,
   "metadata": {},
   "outputs": [
    {
     "ename": "SyntaxError",
     "evalue": "invalid syntax (<ipython-input-48-af58944084ac>, line 1)",
     "output_type": "error",
     "traceback": [
      "\u001b[1;36m  File \u001b[1;32m\"<ipython-input-48-af58944084ac>\"\u001b[1;36m, line \u001b[1;32m1\u001b[0m\n\u001b[1;33m    [d.strftime('%Y%m%d') for d in pd.date_range('20130226','20130302')]:\u001b[0m\n\u001b[1;37m                                                                         ^\u001b[0m\n\u001b[1;31mSyntaxError\u001b[0m\u001b[1;31m:\u001b[0m invalid syntax\n"
     ]
    }
   ],
   "source": [
    "[d.strftime('%Y%m%d') for d in pd.date_range('20130226','20130302')]:\n",
    "    print(d)"
   ]
  },
  {
   "cell_type": "code",
   "execution_count": 49,
   "metadata": {},
   "outputs": [
    {
     "name": "stdout",
     "output_type": "stream",
     "text": [
      "2018-10-23\n",
      "2018-10-24\n",
      "2018-10-25\n",
      "2018-10-26\n",
      "2018-10-27\n",
      "2018-10-28\n",
      "2018-10-29\n",
      "2018-10-30\n",
      "2018-10-31\n"
     ]
    }
   ],
   "source": [
    "for l in list:\n",
    "    print(l.strftime('%Y-%m-%d'))"
   ]
  },
  {
   "cell_type": "code",
   "execution_count": null,
   "metadata": {},
   "outputs": [],
   "source": []
  },
  {
   "cell_type": "code",
   "execution_count": 197,
   "metadata": {},
   "outputs": [
    {
     "data": {
      "text/html": [
       "<div>\n",
       "<style scoped>\n",
       "    .dataframe tbody tr th:only-of-type {\n",
       "        vertical-align: middle;\n",
       "    }\n",
       "\n",
       "    .dataframe tbody tr th {\n",
       "        vertical-align: top;\n",
       "    }\n",
       "\n",
       "    .dataframe thead th {\n",
       "        text-align: right;\n",
       "    }\n",
       "</style>\n",
       "<table border=\"1\" class=\"dataframe\">\n",
       "  <thead>\n",
       "    <tr style=\"text-align: right;\">\n",
       "      <th></th>\n",
       "      <th>0</th>\n",
       "    </tr>\n",
       "  </thead>\n",
       "  <tbody>\n",
       "  </tbody>\n",
       "</table>\n",
       "</div>"
      ],
      "text/plain": [
       "Empty DataFrame\n",
       "Columns: [0]\n",
       "Index: []"
      ]
     },
     "execution_count": 197,
     "metadata": {},
     "output_type": "execute_result"
    }
   ],
   "source": [
    "pd.DataFrame(data=list)"
   ]
  },
  {
   "cell_type": "code",
   "execution_count": 89,
   "metadata": {},
   "outputs": [],
   "source": [
    "last_index = df.last_valid_index()"
   ]
  },
  {
   "cell_type": "code",
   "execution_count": 91,
   "metadata": {},
   "outputs": [],
   "source": [
    "last = list[last_index]"
   ]
  },
  {
   "cell_type": "code",
   "execution_count": 158,
   "metadata": {},
   "outputs": [],
   "source": [
    "def forward_date_range(start_dt, end_dt, span_days):\n",
    "    #\n",
    "    # Generate tuples with intervals from given range of dates (forward)\n",
    "    #\n",
    "    # forward_date_range('2012-01-01', '2012-01-5', 2)\n",
    "    #\n",
    "    # 1st yield = ('2012-01-01', '2012-01-03')\n",
    "    # 2nd yield = ('2012-01-04', '2012-01-05')\n",
    "    start_dt = datetime.datetime.strptime(start_dt, '%Y-%m-%d')\n",
    "    end_dt   = datetime.datetime.strptime(end_dt, '%Y-%m-%d')\n",
    "    span     = datetime.timedelta(days=span_days)\n",
    "    step     = datetime.timedelta(days=1)\n",
    "\n",
    "    while start_dt + span < end_dt:\n",
    "        current = start_dt + span\n",
    "        yield start_dt.strftime('%Y-%m-%d'), current.strftime('%Y-%m-%d')\n",
    "        start_dt = current + step\n",
    "    else:\n",
    "        yield start_dt.strftime('%Y-%m-%d'), end_dt.strftime('%Y-%m-%d')"
   ]
  },
  {
   "cell_type": "code",
   "execution_count": 163,
   "metadata": {},
   "outputs": [],
   "source": [
    "f=forward_date_range('2018-01-01','2018-10-30', 30)"
   ]
  },
  {
   "cell_type": "code",
   "execution_count": 172,
   "metadata": {},
   "outputs": [
    {
     "name": "stdout",
     "output_type": "stream",
     "text": [
      "<class 'str'>\n",
      "<class 'str'>\n"
     ]
    }
   ],
   "source": [
    "l = next(f)\n",
    "for x  in l:\n",
    "    print(type(x))\n",
    "    \n"
   ]
  },
  {
   "cell_type": "code",
   "execution_count": 174,
   "metadata": {},
   "outputs": [
    {
     "ename": "AttributeError",
     "evalue": "'DataFrame' object has no attribute 'some_date'",
     "output_type": "error",
     "traceback": [
      "\u001b[1;31m---------------------------------------------------------------------------\u001b[0m",
      "\u001b[1;31mAttributeError\u001b[0m                            Traceback (most recent call last)",
      "\u001b[1;32m<ipython-input-174-900c21fd1a01>\u001b[0m in \u001b[0;36m<module>\u001b[1;34m\u001b[0m\n\u001b[1;32m----> 1\u001b[1;33m \u001b[0mdf\u001b[0m\u001b[1;33m[\u001b[0m\u001b[0mdf\u001b[0m\u001b[1;33m.\u001b[0m\u001b[0msome_date\u001b[0m\u001b[1;33m.\u001b[0m\u001b[0mbetween\u001b[0m\u001b[1;33m(\u001b[0m\u001b[0mstart_date\u001b[0m\u001b[1;33m,\u001b[0m \u001b[0mend_date\u001b[0m\u001b[1;33m)\u001b[0m\u001b[1;33m]\u001b[0m\u001b[1;33m\u001b[0m\u001b[0m\n\u001b[0m",
      "\u001b[1;32mc:\\python\\lib\\site-packages\\pandas\\core\\generic.py\u001b[0m in \u001b[0;36m__getattr__\u001b[1;34m(self, name)\u001b[0m\n\u001b[0;32m   4374\u001b[0m             \u001b[1;32mif\u001b[0m \u001b[0mself\u001b[0m\u001b[1;33m.\u001b[0m\u001b[0m_info_axis\u001b[0m\u001b[1;33m.\u001b[0m\u001b[0m_can_hold_identifiers_and_holds_name\u001b[0m\u001b[1;33m(\u001b[0m\u001b[0mname\u001b[0m\u001b[1;33m)\u001b[0m\u001b[1;33m:\u001b[0m\u001b[1;33m\u001b[0m\u001b[0m\n\u001b[0;32m   4375\u001b[0m                 \u001b[1;32mreturn\u001b[0m \u001b[0mself\u001b[0m\u001b[1;33m[\u001b[0m\u001b[0mname\u001b[0m\u001b[1;33m]\u001b[0m\u001b[1;33m\u001b[0m\u001b[0m\n\u001b[1;32m-> 4376\u001b[1;33m             \u001b[1;32mreturn\u001b[0m \u001b[0mobject\u001b[0m\u001b[1;33m.\u001b[0m\u001b[0m__getattribute__\u001b[0m\u001b[1;33m(\u001b[0m\u001b[0mself\u001b[0m\u001b[1;33m,\u001b[0m \u001b[0mname\u001b[0m\u001b[1;33m)\u001b[0m\u001b[1;33m\u001b[0m\u001b[0m\n\u001b[0m\u001b[0;32m   4377\u001b[0m \u001b[1;33m\u001b[0m\u001b[0m\n\u001b[0;32m   4378\u001b[0m     \u001b[1;32mdef\u001b[0m \u001b[0m__setattr__\u001b[0m\u001b[1;33m(\u001b[0m\u001b[0mself\u001b[0m\u001b[1;33m,\u001b[0m \u001b[0mname\u001b[0m\u001b[1;33m,\u001b[0m \u001b[0mvalue\u001b[0m\u001b[1;33m)\u001b[0m\u001b[1;33m:\u001b[0m\u001b[1;33m\u001b[0m\u001b[0m\n",
      "\u001b[1;31mAttributeError\u001b[0m: 'DataFrame' object has no attribute 'some_date'"
     ]
    }
   ],
   "source": [
    "df[df.some_date.between(start_date, end_date)]"
   ]
  },
  {
   "cell_type": "code",
   "execution_count": null,
   "metadata": {},
   "outputs": [],
   "source": []
  }
 ],
 "metadata": {
  "kernelspec": {
   "display_name": "Python 3",
   "language": "python",
   "name": "python3"
  },
  "language_info": {
   "codemirror_mode": {
    "name": "ipython",
    "version": 3
   },
   "file_extension": ".py",
   "mimetype": "text/x-python",
   "name": "python",
   "nbconvert_exporter": "python",
   "pygments_lexer": "ipython3",
   "version": "3.7.0"
  }
 },
 "nbformat": 4,
 "nbformat_minor": 2
}
