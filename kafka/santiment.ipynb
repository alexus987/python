{
 "cells": [
  {
   "cell_type": "markdown",
   "metadata": {},
   "source": [
    "## InfluxDB ##"
   ]
  },
  {
   "cell_type": "code",
   "execution_count": 5,
   "metadata": {},
   "outputs": [],
   "source": [
    "from influxdb import InfluxDBClient\n",
    "import json"
   ]
  },
  {
   "cell_type": "code",
   "execution_count": 3,
   "metadata": {},
   "outputs": [],
   "source": [
    "client = InfluxDBClient(host='influxdb-influxdb.default.svc.cluster.local', port=8086)"
   ]
  },
  {
   "cell_type": "code",
   "execution_count": 4,
   "metadata": {},
   "outputs": [],
   "source": [
    "dbs= client.get_list_database()"
   ]
  },
  {
   "cell_type": "code",
   "execution_count": 5,
   "metadata": {},
   "outputs": [],
   "source": [
    "client.switch_database('prices')"
   ]
  },
  {
   "cell_type": "code",
   "execution_count": 6,
   "metadata": {},
   "outputs": [],
   "source": [
    "measurements = client.get_list_measurements()"
   ]
  },
  {
   "cell_type": "code",
   "execution_count": 8,
   "metadata": {},
   "outputs": [
    {
     "data": {
      "text/plain": [
       "{'statement_id': 0,\n",
       " 'series': [{'name': 'ALC_allcoin',\n",
       "   'columns': ['time', 'price_btc', 'price_usd'],\n",
       "   'values': [['2018-10-22T19:15:54Z', 2.35e-06, 0.0151903118]]}]}"
      ]
     },
     "execution_count": 8,
     "metadata": {},
     "output_type": "execute_result"
    }
   ],
   "source": [
    "results = client.query('select * from ALC_allcoin ORDER by time DESC LIMIT 1')\n",
    "results.raw"
   ]
  },
  {
   "cell_type": "code",
   "execution_count": 10,
   "metadata": {},
   "outputs": [],
   "source": [
    "str = str(measurements)"
   ]
  },
  {
   "cell_type": "code",
   "execution_count": 11,
   "metadata": {},
   "outputs": [],
   "source": [
    "str = str.replace(\"\\'\", \"\\\"\")"
   ]
  },
  {
   "cell_type": "code",
   "execution_count": 12,
   "metadata": {},
   "outputs": [],
   "source": [
    "raw_input = json.loads(str)"
   ]
  },
  {
   "cell_type": "code",
   "execution_count": 33,
   "metadata": {},
   "outputs": [],
   "source": [
    "output_dict = [x for x in raw_input if x['name'] == '611_USD']"
   ]
  },
  {
   "cell_type": "code",
   "execution_count": 34,
   "metadata": {},
   "outputs": [
    {
     "data": {
      "text/plain": [
       "[{'name': '611_USD'}]"
      ]
     },
     "execution_count": 34,
     "metadata": {},
     "output_type": "execute_result"
    }
   ],
   "source": [
    "output_dict"
   ]
  },
  {
   "cell_type": "code",
   "execution_count": 15,
   "metadata": {},
   "outputs": [],
   "source": [
    "clear_USD = [x for x in measurements \n",
    "               if x['name'].endswith('_USD') == False\n",
    "              ]"
   ]
  },
  {
   "cell_type": "code",
   "execution_count": 16,
   "metadata": {},
   "outputs": [],
   "source": [
    "clear_BTC = [x for x in clear_USD \n",
    "               if x['name'].endswith('_BTC') == False\n",
    "              ]"
   ]
  },
  {
   "cell_type": "code",
   "execution_count": 17,
   "metadata": {},
   "outputs": [],
   "source": [
    "clear_BTC1 = [x for x in clear_BTC \n",
    "               if x['name'].endswith('coin') \n",
    "              ]"
   ]
  },
  {
   "cell_type": "code",
   "execution_count": 19,
   "metadata": {},
   "outputs": [
    {
     "data": {
      "text/plain": [
       "list"
      ]
     },
     "execution_count": 19,
     "metadata": {},
     "output_type": "execute_result"
    }
   ],
   "source": [
    "type(output_dict)"
   ]
  },
  {
   "cell_type": "code",
   "execution_count": 49,
   "metadata": {},
   "outputs": [
    {
     "data": {
      "text/plain": [
       "{'statement_id': 0,\n",
       " 'series': [{'name': '611_USD',\n",
       "   'columns': ['time', 'marketcap', 'price', 'volume'],\n",
       "   'values': [['2018-10-22T19:40:26Z', 65427, 0.1423848561, 123]]}]}"
      ]
     },
     "execution_count": 49,
     "metadata": {},
     "output_type": "execute_result"
    }
   ],
   "source": [
    "for x in output_dict:\n",
    "    client.query(('SELECT * from \"%s\" ORDER by time DESC LIMIT 1') %  x['name'])\n",
    "    #results = client.query('SELECT * from ALC_allcoin ORDER by time DESC LIMIT 1')\n",
    "          \n",
    "results.raw    "
   ]
  },
  {
   "cell_type": "code",
   "execution_count": 142,
   "metadata": {},
   "outputs": [
    {
     "name": "stdout",
     "output_type": "stream",
     "text": [
      "{\"statement_id\": 0, \"series\": [{\"name\": \"ALC_allcoin\", \"columns\": [\"time\", \"price_btc\", \"price_usd\"], \"values\": [[\"2018-10-22T13:07:55Z\", 2.35e-06, 0.0153629382]]}]}\n"
     ]
    }
   ],
   "source": [
    "out = json.dumps(results.raw)\n",
    "print(out)"
   ]
  },
  {
   "cell_type": "markdown",
   "metadata": {},
   "source": [
    "## Working with JSON output ##"
   ]
  },
  {
   "cell_type": "code",
   "execution_count": 39,
   "metadata": {
    "scrolled": true
   },
   "outputs": [
    {
     "name": "stdout",
     "output_type": "stream",
     "text": [
      "[{'time': '2018-10-22T19:40:26Z', 'marketcap': 65427, 'price': 0.1423848561, 'volume': 123}]\n",
      "[{'time': '2018-10-22T19:40:26Z', 'marketcap': 65427, 'price': 0.1423848561, 'volume': 123}]\n"
     ]
    }
   ],
   "source": [
    "for x in output_dict:\n",
    "    results = client.query(('SELECT * from \"%s\" ORDER by time DESC LIMIT 1') %  x['name'])\n",
    "    \n",
    "    points = list(results.get_points())\n",
    "    print(points)\n",
    "    data_file = x['name']+'.json'\n",
    "    with open(data_file, 'w') as outfile:\n",
    "        json.dump(points, outfile)\n",
    "# 611_USD.json\n",
    "#results.raw\n",
    "#print(points)"
   ]
  },
  {
   "cell_type": "code",
   "execution_count": 37,
   "metadata": {},
   "outputs": [
    {
     "data": {
      "text/plain": [
       "{'statement_id': 0,\n",
       " 'series': [{'name': '611_USD',\n",
       "   'columns': ['time', 'marketcap', 'price', 'volume'],\n",
       "   'values': [['2018-10-22T19:35:33Z', 65116, 0.1417095519, 122]]}]}"
      ]
     },
     "execution_count": 37,
     "metadata": {},
     "output_type": "execute_result"
    }
   ],
   "source": [
    "results.raw    "
   ]
  },
  {
   "cell_type": "code",
   "execution_count": 188,
   "metadata": {},
   "outputs": [],
   "source": [
    "# save relusts.raw in a json file\n",
    "data_file = output_dict['name']\n",
    "with open('data.json', 'w') as outfile:\n",
    "    json.dump(results.raw, outfile)"
   ]
  },
  {
   "cell_type": "code",
   "execution_count": 38,
   "metadata": {},
   "outputs": [],
   "source": [
    "# save columns and values in a json file\n",
    "with open('data.json', 'w') as outfile:\n",
    "    json.dump(points, outfile)"
   ]
  },
  {
   "cell_type": "code",
   "execution_count": 47,
   "metadata": {},
   "outputs": [],
   "source": [
    "def read_data(measurements):\n",
    "    client = InfluxDBClient(host='influxdb-influxdb.default.svc.cluster.local', port=8086)\n",
    "    client.switch_database('prices')\n",
    "    \n",
    "    for x in measurements:\n",
    "        results = client.query(('SELECT * from \"%s\" ORDER by time DESC LIMIT 1') %  x['name'])\n",
    "        points = list(results.get_points())\n",
    "        #print(points)\n",
    "        data_file = x['name']+'.json'\n",
    "        with open(data_file, 'w') as outfile:\n",
    "            json.dump(points, outfile)\n",
    "\n",
    "    return points"
   ]
  },
  {
   "cell_type": "code",
   "execution_count": 48,
   "metadata": {},
   "outputs": [
    {
     "data": {
      "text/plain": [
       "[{'time': '2018-10-22T19:46:29Z',\n",
       "  'marketcap': 65429,\n",
       "  'price': 0.1423885136,\n",
       "  'volume': 123}]"
      ]
     },
     "execution_count": 48,
     "metadata": {},
     "output_type": "execute_result"
    }
   ],
   "source": [
    "read_data(output_dict)"
   ]
  },
  {
   "cell_type": "markdown",
   "metadata": {},
   "source": [
    "## Kafka ##"
   ]
  },
  {
   "cell_type": "code",
   "execution_count": 1,
   "metadata": {},
   "outputs": [],
   "source": [
    "from kafka import SimpleProducer, KafkaClient\n",
    "\n",
    "\n",
    "kafka = KafkaClient('blockchain-kafka-kafka.default.svc.cluster.local:9092')\n",
    "producer = SimpleProducer(kafka)\n",
    "#producer.send_messages('test', b'async message')"
   ]
  },
  {
   "cell_type": "code",
   "execution_count": 2,
   "metadata": {},
   "outputs": [],
   "source": [
    "import yaml\n",
    "import json\n",
    "from bson import json_util\n"
   ]
  },
  {
   "cell_type": "code",
   "execution_count": 3,
   "metadata": {},
   "outputs": [
    {
     "data": {
      "text/plain": [
       "'1.4.3'"
      ]
     },
     "execution_count": 3,
     "metadata": {},
     "output_type": "execute_result"
    }
   ],
   "source": [
    "import kafka as k\n",
    "k.__version__"
   ]
  },
  {
   "cell_type": "code",
   "execution_count": 4,
   "metadata": {},
   "outputs": [],
   "source": [
    "with open('611_USD.json') as f:\n",
    "    data = json.load(f)"
   ]
  },
  {
   "cell_type": "code",
   "execution_count": 5,
   "metadata": {},
   "outputs": [
    {
     "name": "stdout",
     "output_type": "stream",
     "text": [
      "[{'time': '2018-10-22T19:46:29Z', 'marketcap': 65429, 'price': 0.1423885136, 'volume': 123}]\n"
     ]
    }
   ],
   "source": [
    "print(data)"
   ]
  },
  {
   "cell_type": "code",
   "execution_count": 6,
   "metadata": {
    "scrolled": true
   },
   "outputs": [
    {
     "ename": "FailedPayloadsError",
     "evalue": "FailedPayloadsError",
     "output_type": "error",
     "traceback": [
      "\u001b[1;31m---------------------------------------------------------------------------\u001b[0m",
      "\u001b[1;31mFailedPayloadsError\u001b[0m                       Traceback (most recent call last)",
      "\u001b[1;32m<ipython-input-6-2c3d42caa44c>\u001b[0m in \u001b[0;36m<module>\u001b[1;34m\u001b[0m\n\u001b[0;32m      4\u001b[0m         \u001b[0mjd\u001b[0m \u001b[1;33m=\u001b[0m \u001b[0mjson\u001b[0m\u001b[1;33m.\u001b[0m\u001b[0mdumps\u001b[0m\u001b[1;33m(\u001b[0m\u001b[0md\u001b[0m\u001b[1;33m)\u001b[0m\u001b[1;33m\u001b[0m\u001b[0m\n\u001b[0;32m      5\u001b[0m \u001b[1;33m\u001b[0m\u001b[0m\n\u001b[1;32m----> 6\u001b[1;33m         \u001b[0mproducer\u001b[0m\u001b[1;33m.\u001b[0m\u001b[0msend_messages\u001b[0m\u001b[1;33m(\u001b[0m\u001b[1;34m'test'\u001b[0m\u001b[1;33m,\u001b[0m \u001b[0mjson\u001b[0m\u001b[1;33m.\u001b[0m\u001b[0mdumps\u001b[0m\u001b[1;33m(\u001b[0m\u001b[0mjd\u001b[0m\u001b[1;33m,\u001b[0m \u001b[0mindent\u001b[0m\u001b[1;33m=\u001b[0m\u001b[1;36m4\u001b[0m\u001b[1;33m,\u001b[0m \u001b[0mdefault\u001b[0m\u001b[1;33m=\u001b[0m\u001b[0mjson_util\u001b[0m\u001b[1;33m.\u001b[0m\u001b[0mdefault\u001b[0m\u001b[1;33m)\u001b[0m\u001b[1;33m.\u001b[0m\u001b[0mencode\u001b[0m\u001b[1;33m(\u001b[0m\u001b[1;34m'utf-8'\u001b[0m\u001b[1;33m)\u001b[0m\u001b[1;33m)\u001b[0m\u001b[1;33m\u001b[0m\u001b[0m\n\u001b[0m",
      "\u001b[1;32mc:\\python\\lib\\site-packages\\kafka\\producer\\simple.py\u001b[0m in \u001b[0;36msend_messages\u001b[1;34m(self, topic, *msg)\u001b[0m\n\u001b[0;32m     48\u001b[0m         \u001b[0mpartition\u001b[0m \u001b[1;33m=\u001b[0m \u001b[0mself\u001b[0m\u001b[1;33m.\u001b[0m\u001b[0m_next_partition\u001b[0m\u001b[1;33m(\u001b[0m\u001b[0mtopic\u001b[0m\u001b[1;33m)\u001b[0m\u001b[1;33m\u001b[0m\u001b[0m\n\u001b[0;32m     49\u001b[0m         return super(SimpleProducer, self).send_messages(\n\u001b[1;32m---> 50\u001b[1;33m             \u001b[0mtopic\u001b[0m\u001b[1;33m,\u001b[0m \u001b[0mpartition\u001b[0m\u001b[1;33m,\u001b[0m \u001b[1;33m*\u001b[0m\u001b[0mmsg\u001b[0m\u001b[1;33m\u001b[0m\u001b[0m\n\u001b[0m\u001b[0;32m     51\u001b[0m         )\n\u001b[0;32m     52\u001b[0m \u001b[1;33m\u001b[0m\u001b[0m\n",
      "\u001b[1;32mc:\\python\\lib\\site-packages\\kafka\\producer\\base.py\u001b[0m in \u001b[0;36msend_messages\u001b[1;34m(self, topic, partition, *msg)\u001b[0m\n\u001b[0;32m    385\u001b[0m                 \u001b[0munsent\u001b[0m \u001b[1;32mand\u001b[0m \u001b[0mremain\u001b[0m \u001b[1;32min\u001b[0m \u001b[0mthe\u001b[0m \u001b[0minternal\u001b[0m \u001b[0mqueue\u001b[0m\u001b[1;33m.\u001b[0m\u001b[1;33m\u001b[0m\u001b[0m\n\u001b[0;32m    386\u001b[0m         \"\"\"\n\u001b[1;32m--> 387\u001b[1;33m         \u001b[1;32mreturn\u001b[0m \u001b[0mself\u001b[0m\u001b[1;33m.\u001b[0m\u001b[0m_send_messages\u001b[0m\u001b[1;33m(\u001b[0m\u001b[0mtopic\u001b[0m\u001b[1;33m,\u001b[0m \u001b[0mpartition\u001b[0m\u001b[1;33m,\u001b[0m \u001b[1;33m*\u001b[0m\u001b[0mmsg\u001b[0m\u001b[1;33m)\u001b[0m\u001b[1;33m\u001b[0m\u001b[0m\n\u001b[0m\u001b[0;32m    388\u001b[0m \u001b[1;33m\u001b[0m\u001b[0m\n\u001b[0;32m    389\u001b[0m     \u001b[1;32mdef\u001b[0m \u001b[0m_send_messages\u001b[0m\u001b[1;33m(\u001b[0m\u001b[0mself\u001b[0m\u001b[1;33m,\u001b[0m \u001b[0mtopic\u001b[0m\u001b[1;33m,\u001b[0m \u001b[0mpartition\u001b[0m\u001b[1;33m,\u001b[0m \u001b[1;33m*\u001b[0m\u001b[0mmsg\u001b[0m\u001b[1;33m,\u001b[0m \u001b[1;33m**\u001b[0m\u001b[0mkwargs\u001b[0m\u001b[1;33m)\u001b[0m\u001b[1;33m:\u001b[0m\u001b[1;33m\u001b[0m\u001b[0m\n",
      "\u001b[1;32mc:\\python\\lib\\site-packages\\kafka\\producer\\base.py\u001b[0m in \u001b[0;36m_send_messages\u001b[1;34m(self, topic, partition, *msg, **kwargs)\u001b[0m\n\u001b[0;32m    428\u001b[0m                 resp = self.client.send_produce_request(\n\u001b[0;32m    429\u001b[0m                     \u001b[1;33m[\u001b[0m\u001b[0mreq\u001b[0m\u001b[1;33m]\u001b[0m\u001b[1;33m,\u001b[0m \u001b[0macks\u001b[0m\u001b[1;33m=\u001b[0m\u001b[0mself\u001b[0m\u001b[1;33m.\u001b[0m\u001b[0mreq_acks\u001b[0m\u001b[1;33m,\u001b[0m \u001b[0mtimeout\u001b[0m\u001b[1;33m=\u001b[0m\u001b[0mself\u001b[0m\u001b[1;33m.\u001b[0m\u001b[0mack_timeout\u001b[0m\u001b[1;33m,\u001b[0m\u001b[1;33m\u001b[0m\u001b[0m\n\u001b[1;32m--> 430\u001b[1;33m                     \u001b[0mfail_on_error\u001b[0m\u001b[1;33m=\u001b[0m\u001b[0mself\u001b[0m\u001b[1;33m.\u001b[0m\u001b[0msync_fail_on_error\u001b[0m\u001b[1;33m\u001b[0m\u001b[0m\n\u001b[0m\u001b[0;32m    431\u001b[0m                 )\n\u001b[0;32m    432\u001b[0m             \u001b[1;32mexcept\u001b[0m \u001b[0mException\u001b[0m\u001b[1;33m:\u001b[0m\u001b[1;33m\u001b[0m\u001b[0m\n",
      "\u001b[1;32mc:\\python\\lib\\site-packages\\kafka\\client.py\u001b[0m in \u001b[0;36msend_produce_request\u001b[1;34m(self, payloads, acks, timeout, fail_on_error, callback)\u001b[0m\n\u001b[0;32m    643\u001b[0m         \u001b[0mresps\u001b[0m \u001b[1;33m=\u001b[0m \u001b[0mself\u001b[0m\u001b[1;33m.\u001b[0m\u001b[0m_send_broker_aware_request\u001b[0m\u001b[1;33m(\u001b[0m\u001b[0mpayloads\u001b[0m\u001b[1;33m,\u001b[0m \u001b[0mencoder\u001b[0m\u001b[1;33m,\u001b[0m \u001b[0mdecoder\u001b[0m\u001b[1;33m)\u001b[0m\u001b[1;33m\u001b[0m\u001b[0m\n\u001b[0;32m    644\u001b[0m \u001b[1;33m\u001b[0m\u001b[0m\n\u001b[1;32m--> 645\u001b[1;33m         return [resp if not callback else callback(resp) for resp in resps\n\u001b[0m\u001b[0;32m    646\u001b[0m                 \u001b[1;32mif\u001b[0m \u001b[0mresp\u001b[0m \u001b[1;32mis\u001b[0m \u001b[1;32mnot\u001b[0m \u001b[1;32mNone\u001b[0m \u001b[1;32mand\u001b[0m\u001b[1;33m\u001b[0m\u001b[0m\n\u001b[0;32m    647\u001b[0m                 (not fail_on_error or not self._raise_on_response_error(resp))]\n",
      "\u001b[1;32mc:\\python\\lib\\site-packages\\kafka\\client.py\u001b[0m in \u001b[0;36m<listcomp>\u001b[1;34m(.0)\u001b[0m\n\u001b[0;32m    645\u001b[0m         return [resp if not callback else callback(resp) for resp in resps\n\u001b[0;32m    646\u001b[0m                 \u001b[1;32mif\u001b[0m \u001b[0mresp\u001b[0m \u001b[1;32mis\u001b[0m \u001b[1;32mnot\u001b[0m \u001b[1;32mNone\u001b[0m \u001b[1;32mand\u001b[0m\u001b[1;33m\u001b[0m\u001b[0m\n\u001b[1;32m--> 647\u001b[1;33m                 (not fail_on_error or not self._raise_on_response_error(resp))]\n\u001b[0m\u001b[0;32m    648\u001b[0m \u001b[1;33m\u001b[0m\u001b[0m\n\u001b[0;32m    649\u001b[0m     def send_fetch_request(self, payloads=(), fail_on_error=True,\n",
      "\u001b[1;32mc:\\python\\lib\\site-packages\\kafka\\client.py\u001b[0m in \u001b[0;36m_raise_on_response_error\u001b[1;34m(self, resp)\u001b[0m\n\u001b[0;32m    401\u001b[0m         \u001b[1;31m# Response can be an unraised exception object (FailedPayloadsError)\u001b[0m\u001b[1;33m\u001b[0m\u001b[1;33m\u001b[0m\u001b[0m\n\u001b[0;32m    402\u001b[0m         \u001b[1;32mif\u001b[0m \u001b[0misinstance\u001b[0m\u001b[1;33m(\u001b[0m\u001b[0mresp\u001b[0m\u001b[1;33m,\u001b[0m \u001b[0mException\u001b[0m\u001b[1;33m)\u001b[0m\u001b[1;33m:\u001b[0m\u001b[1;33m\u001b[0m\u001b[0m\n\u001b[1;32m--> 403\u001b[1;33m             \u001b[1;32mraise\u001b[0m \u001b[0mresp\u001b[0m\u001b[1;33m\u001b[0m\u001b[0m\n\u001b[0m\u001b[0;32m    404\u001b[0m \u001b[1;33m\u001b[0m\u001b[0m\n\u001b[0;32m    405\u001b[0m         \u001b[1;31m# Or a server api error response\u001b[0m\u001b[1;33m\u001b[0m\u001b[1;33m\u001b[0m\u001b[0m\n",
      "\u001b[1;31mFailedPayloadsError\u001b[0m: FailedPayloadsError"
     ]
    }
   ],
   "source": [
    "with open('611_USD.json') as f:\n",
    "    for line in f:\n",
    "        d = yaml.safe_load(line)\n",
    "        jd = json.dumps(d)\n",
    "       \n",
    "        producer.send_messages('test', json.dumps(jd, indent=4, default=json_util.default).encode('utf-8'))\n"
   ]
  },
  {
   "cell_type": "code",
   "execution_count": 8,
   "metadata": {},
   "outputs": [],
   "source": [
    "# send 10 messages to kafka\n",
    "for i in range(10):\n",
    "    data = { 'tag ': 'blah',\n",
    "        'name' : 'sam',\n",
    "        'index' : i,\n",
    "        'score': \n",
    "            {'row1': 100,\n",
    "             'row2': 200\n",
    "        }\n",
    "    }   \n",
    "    producer.send_messages('test', json.dumps(data, indent=4, default=json_util.default).encode('utf-8'))"
   ]
  }
 ],
 "metadata": {
  "kernelspec": {
   "display_name": "Python 3",
   "language": "python",
   "name": "python3"
  },
  "language_info": {
   "codemirror_mode": {
    "name": "ipython",
    "version": 3
   },
   "file_extension": ".py",
   "mimetype": "text/x-python",
   "name": "python",
   "nbconvert_exporter": "python",
   "pygments_lexer": "ipython3",
   "version": "3.7.0"
  }
 },
 "nbformat": 4,
 "nbformat_minor": 2
}
