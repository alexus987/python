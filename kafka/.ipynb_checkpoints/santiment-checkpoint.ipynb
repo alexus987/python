{
 "cells": [
  {
   "cell_type": "markdown",
   "metadata": {},
   "source": [
    "## InfluxDB ##"
   ]
  },
  {
   "cell_type": "code",
   "execution_count": 1,
   "metadata": {},
   "outputs": [],
   "source": [
    "from influxdb import InfluxDBClient\n",
    "import json"
   ]
  },
  {
   "cell_type": "code",
   "execution_count": 2,
   "metadata": {},
   "outputs": [],
   "source": [
    "client = InfluxDBClient(host='influxdb-influxdb.default.svc.cluster.local', port=8086)"
   ]
  },
  {
   "cell_type": "code",
   "execution_count": 3,
   "metadata": {},
   "outputs": [],
   "source": [
    "dbs= client.get_list_database()"
   ]
  },
  {
   "cell_type": "code",
   "execution_count": 4,
   "metadata": {},
   "outputs": [],
   "source": [
    "client.switch_database('prices')"
   ]
  },
  {
   "cell_type": "code",
   "execution_count": 5,
   "metadata": {},
   "outputs": [],
   "source": [
    "measurements = client.get_list_measurements()"
   ]
  },
  {
   "cell_type": "code",
   "execution_count": 6,
   "metadata": {},
   "outputs": [
    {
     "data": {
      "text/plain": [
       "{'statement_id': 0,\n",
       " 'series': [{'name': 'ALC_allcoin',\n",
       "   'columns': ['time', 'price_btc', 'price_usd'],\n",
       "   'values': [['2018-10-28T19:25:54Z', 2.28e-06, 0.01474555]]}]}"
      ]
     },
     "execution_count": 6,
     "metadata": {},
     "output_type": "execute_result"
    }
   ],
   "source": [
    "results = client.query('select * from ALC_allcoin ORDER by time DESC LIMIT 1')\n",
    "results.raw"
   ]
  },
  {
   "cell_type": "code",
   "execution_count": 7,
   "metadata": {},
   "outputs": [],
   "source": [
    "str = str(measurements)"
   ]
  },
  {
   "cell_type": "code",
   "execution_count": 8,
   "metadata": {},
   "outputs": [],
   "source": [
    "str = str.replace(\"\\'\", \"\\\"\")"
   ]
  },
  {
   "cell_type": "code",
   "execution_count": 9,
   "metadata": {},
   "outputs": [],
   "source": [
    "raw_input = json.loads(str)"
   ]
  },
  {
   "cell_type": "code",
   "execution_count": 10,
   "metadata": {},
   "outputs": [],
   "source": [
    "output_dict = [x for x in raw_input if x['name'] == '611_USD']"
   ]
  },
  {
   "cell_type": "code",
   "execution_count": 11,
   "metadata": {},
   "outputs": [
    {
     "data": {
      "text/plain": [
       "[{'name': '611_USD'}]"
      ]
     },
     "execution_count": 11,
     "metadata": {},
     "output_type": "execute_result"
    }
   ],
   "source": [
    "output_dict"
   ]
  },
  {
   "cell_type": "code",
   "execution_count": 12,
   "metadata": {},
   "outputs": [],
   "source": [
    "clear_USD = [x for x in measurements \n",
    "               if x['name'].endswith('_USD') == False\n",
    "              ]"
   ]
  },
  {
   "cell_type": "code",
   "execution_count": 13,
   "metadata": {},
   "outputs": [],
   "source": [
    "clear_BTC = [x for x in clear_USD \n",
    "               if x['name'].endswith('_BTC') == False\n",
    "              ]"
   ]
  },
  {
   "cell_type": "code",
   "execution_count": 63,
   "metadata": {},
   "outputs": [],
   "source": [
    "clear_BTC1 = [x for x in clear_BTC \n",
    "               if x['name'].endswith('coin') \n",
    "              ]"
   ]
  },
  {
   "cell_type": "code",
   "execution_count": 34,
   "metadata": {},
   "outputs": [
    {
     "data": {
      "text/plain": [
       "list"
      ]
     },
     "execution_count": 34,
     "metadata": {},
     "output_type": "execute_result"
    }
   ],
   "source": [
    "type(output_dict)"
   ]
  },
  {
   "cell_type": "code",
   "execution_count": 14,
   "metadata": {},
   "outputs": [
    {
     "data": {
      "text/plain": [
       "{'statement_id': 0,\n",
       " 'series': [{'name': 'ALC_allcoin',\n",
       "   'columns': ['time', 'price_btc', 'price_usd'],\n",
       "   'values': [['2018-10-28T19:25:54Z', 2.28e-06, 0.01474555]]}]}"
      ]
     },
     "execution_count": 14,
     "metadata": {},
     "output_type": "execute_result"
    }
   ],
   "source": [
    "for x in output_dict:\n",
    "    client.query(('SELECT * from \"%s\" ORDER by time DESC LIMIT 1') %  x['name'])\n",
    "    #results = client.query('SELECT * from ALC_allcoin ORDER by time DESC LIMIT 1')\n",
    "          \n",
    "results.raw    "
   ]
  },
  {
   "cell_type": "code",
   "execution_count": 15,
   "metadata": {},
   "outputs": [
    {
     "name": "stdout",
     "output_type": "stream",
     "text": [
      "{\"statement_id\": 0, \"series\": [{\"name\": \"ALC_allcoin\", \"columns\": [\"time\", \"price_btc\", \"price_usd\"], \"values\": [[\"2018-10-28T19:25:54Z\", 2.28e-06, 0.01474555]]}]}\n"
     ]
    }
   ],
   "source": [
    "out = json.dumps(results.raw)\n",
    "print(out)"
   ]
  },
  {
   "cell_type": "code",
   "execution_count": 28,
   "metadata": {},
   "outputs": [
    {
     "name": "stdout",
     "output_type": "stream",
     "text": [
      "[{'name': '611_USD'}]\n"
     ]
    }
   ],
   "source": [
    "print(output_dict)"
   ]
  },
  {
   "cell_type": "markdown",
   "metadata": {},
   "source": [
    "## Working with JSON output ##"
   ]
  },
  {
   "cell_type": "code",
   "execution_count": 21,
   "metadata": {
    "scrolled": true
   },
   "outputs": [
    {
     "name": "stdout",
     "output_type": "stream",
     "text": [
      "[{'time': '2018-10-28T19:25:38Z', 'marketcap': 58289, 'price': 0.1267165628, 'volume': 23}]\n",
      "611_USD message sent\n"
     ]
    }
   ],
   "source": [
    "for x in output_dict:\n",
    "    results = client.query(('SELECT * from \"%s\" ORDER by time DESC LIMIT 1') %  x['name'])\n",
    "    \n",
    "    points = list(results.get_points())\n",
    "    print(points)\n",
    "    data_file = x['name']+'.json'\n",
    "    with open(data_file, 'w') as outfile:\n",
    "        #json.dump(points, outfile)\n",
    "        producer.send_messages('test', json.dumps(points, default=json_util.default).encode('utf-8'))\n",
    "        print(x['name']+' message sent')\n",
    "# 611_USD.json\n",
    "#results.raw\n",
    "#print(points)"
   ]
  },
  {
   "cell_type": "code",
   "execution_count": 37,
   "metadata": {},
   "outputs": [
    {
     "data": {
      "text/plain": [
       "{'statement_id': 0,\n",
       " 'series': [{'name': '611_USD',\n",
       "   'columns': ['time', 'marketcap', 'price', 'volume'],\n",
       "   'values': [['2018-10-22T19:35:33Z', 65116, 0.1417095519, 122]]}]}"
      ]
     },
     "execution_count": 37,
     "metadata": {},
     "output_type": "execute_result"
    }
   ],
   "source": [
    "results.raw    "
   ]
  },
  {
   "cell_type": "code",
   "execution_count": 188,
   "metadata": {},
   "outputs": [],
   "source": [
    "# save relusts.raw in a json file\n",
    "data_file = output_dict['name']\n",
    "with open('data.json', 'w') as outfile:\n",
    "    json.dump(results.raw, outfile)"
   ]
  },
  {
   "cell_type": "code",
   "execution_count": 38,
   "metadata": {},
   "outputs": [],
   "source": [
    "# save columns and values in a json file\n",
    "with open('data.json', 'w') as outfile:\n",
    "    json.dump(points, outfile)"
   ]
  },
  {
   "cell_type": "code",
   "execution_count": 131,
   "metadata": {},
   "outputs": [],
   "source": [
    "def read_data(measurements):\n",
    "    client = InfluxDBClient(host='influxdb-influxdb.default.svc.cluster.local', port=8086)\n",
    "    client.switch_database('prices')\n",
    "    \n",
    "    for x in measurements:\n",
    "        results = client.query(('SELECT * from \"%s\" ORDER by time DESC LIMIT 1') %  x['name'])\n",
    "        points = list(results.get_points())\n",
    "        #params = points[0]\n",
    "        #params['name'] = x['name']\n",
    "        \n",
    "        \n",
    "        points[0]['name'] = x['name']\n",
    "        #producer.send_messages('test', json.dumps(points[0], default=json_util.default).encode('utf-8'))\n",
    "\n",
    "        \n",
    "\n",
    "        #data_file = x['name']+'.json'\n",
    "        #with open(data_file, 'w') as outfile:\n",
    "            #json.dump(points, outfile)\n",
    "    return points[0]\n",
    "    #return params"
   ]
  },
  {
   "cell_type": "code",
   "execution_count": 132,
   "metadata": {},
   "outputs": [
    {
     "data": {
      "text/plain": [
       "{'time': '2018-10-28T20:58:37Z',\n",
       " 'marketcap': 57960,\n",
       " 'price': 0.1259996609,\n",
       " 'volume': 23,\n",
       " 'name': '611_USD'}"
      ]
     },
     "execution_count": 132,
     "metadata": {},
     "output_type": "execute_result"
    }
   ],
   "source": [
    "read_data(output_dict)\n"
   ]
  },
  {
   "cell_type": "code",
   "execution_count": 118,
   "metadata": {},
   "outputs": [
    {
     "data": {
      "text/plain": [
       "NoneType"
      ]
     },
     "execution_count": 118,
     "metadata": {},
     "output_type": "execute_result"
    }
   ],
   "source": [
    "type(x)"
   ]
  },
  {
   "cell_type": "code",
   "execution_count": 106,
   "metadata": {},
   "outputs": [
    {
     "name": "stdout",
     "output_type": "stream",
     "text": [
      "<built-in method keys of dict object at 0x0128BDE0>\n"
     ]
    }
   ],
   "source": [
    "print(x.keys)"
   ]
  },
  {
   "cell_type": "code",
   "execution_count": 61,
   "metadata": {},
   "outputs": [
    {
     "data": {
      "text/plain": [
       "'[{\"time\": \"2018-10-28T20:07:33Z\", \"marketcap\": 57928, \"price\": 0.1259316913, \"volume\": 23, \"name\": \"611_USD\"}]'"
      ]
     },
     "execution_count": 61,
     "metadata": {},
     "output_type": "execute_result"
    }
   ],
   "source": [
    "json.dumps(x)"
   ]
  },
  {
   "cell_type": "markdown",
   "metadata": {},
   "source": [
    "## Kafka ##"
   ]
  },
  {
   "cell_type": "code",
   "execution_count": 17,
   "metadata": {},
   "outputs": [],
   "source": [
    "from kafka import SimpleProducer, KafkaClient\n",
    "\n",
    "\n",
    "kafka = KafkaClient('blockchain-kafka-kafka.default.svc.cluster.local:9092')\n",
    "producer = SimpleProducer(kafka)\n",
    "#producer.send_messages('test', b'async message')"
   ]
  },
  {
   "cell_type": "code",
   "execution_count": 18,
   "metadata": {},
   "outputs": [],
   "source": [
    "import yaml\n",
    "import json\n",
    "from bson import json_util\n"
   ]
  },
  {
   "cell_type": "code",
   "execution_count": 19,
   "metadata": {},
   "outputs": [
    {
     "data": {
      "text/plain": [
       "'1.4.3'"
      ]
     },
     "execution_count": 19,
     "metadata": {},
     "output_type": "execute_result"
    }
   ],
   "source": [
    "import kafka as k\n",
    "k.__version__"
   ]
  },
  {
   "cell_type": "code",
   "execution_count": 4,
   "metadata": {},
   "outputs": [],
   "source": [
    "with open('611_USD.json') as f:\n",
    "    data = json.load(f)"
   ]
  },
  {
   "cell_type": "code",
   "execution_count": 5,
   "metadata": {},
   "outputs": [
    {
     "name": "stdout",
     "output_type": "stream",
     "text": [
      "[{'time': '2018-10-22T19:46:29Z', 'marketcap': 65429, 'price': 0.1423885136, 'volume': 123}]\n"
     ]
    }
   ],
   "source": [
    "print(data)"
   ]
  },
  {
   "cell_type": "code",
   "execution_count": 22,
   "metadata": {
    "scrolled": true
   },
   "outputs": [],
   "source": [
    "with open('611_USD.json') as f:\n",
    "    for line in f:\n",
    "        d = yaml.safe_load(line)\n",
    "        jd = json.dumps(d)\n",
    "       \n",
    "        producer.send_messages('test', json.dumps(jd, default=json_util.default).encode('utf-8'))\n"
   ]
  },
  {
   "cell_type": "code",
   "execution_count": 8,
   "metadata": {},
   "outputs": [],
   "source": [
    "# send 10 messages to kafka\n",
    "for i in range(10):\n",
    "    data = { 'tag ': 'blah',\n",
    "        'name' : 'sam',\n",
    "        'index' : i,\n",
    "        'score': \n",
    "            {'row1': 100,\n",
    "             'row2': 200\n",
    "        }\n",
    "    }   \n",
    "    producer.send_messages('test', json.dumps(data, indent=4, default=json_util.default).encode('utf-8'))"
   ]
  },
  {
   "cell_type": "code",
   "execution_count": null,
   "metadata": {},
   "outputs": [],
   "source": [
    "for x in output_dict:\n",
    "    results = client.query(('SELECT * from \"%s\" ORDER by time DESC LIMIT 1') %  x['name'])\n",
    "    \n",
    "    points = list(results.get_points())\n",
    "    print(points)\n",
    "    data_file = x['name']+'.json'\n",
    "    with open(data_file, 'w') as outfile:\n",
    "        #json.dump(points, outfile)\n",
    "        #producer.send_messages('test', json.dumps(points, default=json_util.default).encode('utf-8'))\n",
    "        print(x['name']+' message sent')"
   ]
  }
 ],
 "metadata": {
  "kernelspec": {
   "display_name": "Python 3",
   "language": "python",
   "name": "python3"
  },
  "language_info": {
   "codemirror_mode": {
    "name": "ipython",
    "version": 3
   },
   "file_extension": ".py",
   "mimetype": "text/x-python",
   "name": "python",
   "nbconvert_exporter": "python",
   "pygments_lexer": "ipython3",
   "version": "3.7.0"
  }
 },
 "nbformat": 4,
 "nbformat_minor": 2
}
